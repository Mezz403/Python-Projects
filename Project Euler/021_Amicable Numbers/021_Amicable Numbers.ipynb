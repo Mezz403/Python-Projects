{
 "cells": [
  {
   "cell_type": "code",
   "execution_count": 1,
   "metadata": {
    "collapsed": false
   },
   "outputs": [],
   "source": [
    "def amicable_numbers_sum(upper):\n",
    "    amicable_numbers = []\n",
    "    \n",
    "    for a in range(2,upper + 1):\n",
    "        move_on = 0\n",
    "        for i in range(0,len(amicable_numbers)):\n",
    "            if a == amicable_numbers[i]:\n",
    "                move_on = 1\n",
    "                break\n",
    "                \n",
    "        if move_on == 1:\n",
    "            next\n",
    "        \n",
    "        else:\n",
    "            if d(a) != 0:\n",
    "                b = d(a)\n",
    "                if ((d(b) == a) and (a != b)):\n",
    "                    amicable_numbers.append(a)\n",
    "                    amicable_numbers.append(b)\n",
    "    \n",
    "    sumamicablenumbers = 0\n",
    "    \n",
    "    \n",
    "    for j in range(0,len(amicable_numbers)):\n",
    "        sumamicablenumbers += amicable_numbers[j]\n",
    "    \n",
    "    return amicable_numbers, sumamicablenumbers"
   ]
  },
  {
   "cell_type": "code",
   "execution_count": 2,
   "metadata": {
    "collapsed": true
   },
   "outputs": [],
   "source": [
    "def d(n):\n",
    "    proper_divisors = []\n",
    "    \n",
    "    for i in range(1,n):\n",
    "        if n%i == 0:\n",
    "            proper_divisors.append(i)\n",
    "    \n",
    "    countproperdivisors = len(proper_divisors)\n",
    "    sumproperdivisors = 0\n",
    "    \n",
    "    if countproperdivisors <= 1:\n",
    "        return 0\n",
    "    else:\n",
    "        for j in range(0,len(proper_divisors)):\n",
    "            sumproperdivisors += proper_divisors[j]\n",
    "        \n",
    "        return sumproperdivisors"
   ]
  },
  {
   "cell_type": "code",
   "execution_count": 3,
   "metadata": {
    "collapsed": false
   },
   "outputs": [
    {
     "data": {
      "text/plain": [
       "([220, 284, 1184, 1210, 2620, 2924, 5020, 5564, 6232, 6368], 31626)"
      ]
     },
     "execution_count": 3,
     "metadata": {},
     "output_type": "execute_result"
    }
   ],
   "source": [
    "amicable_numbers_sum(10000)"
   ]
  },
  {
   "cell_type": "code",
   "execution_count": null,
   "metadata": {
    "collapsed": true
   },
   "outputs": [],
   "source": []
  },
  {
   "cell_type": "code",
   "execution_count": null,
   "metadata": {
    "collapsed": true
   },
   "outputs": [],
   "source": []
  }
 ],
 "metadata": {
  "kernelspec": {
   "display_name": "Python 3",
   "language": "python",
   "name": "python3"
  },
  "language_info": {
   "codemirror_mode": {
    "name": "ipython",
    "version": 3
   },
   "file_extension": ".py",
   "mimetype": "text/x-python",
   "name": "python",
   "nbconvert_exporter": "python",
   "pygments_lexer": "ipython3",
   "version": "3.4.3"
  }
 },
 "nbformat": 4,
 "nbformat_minor": 0
}
