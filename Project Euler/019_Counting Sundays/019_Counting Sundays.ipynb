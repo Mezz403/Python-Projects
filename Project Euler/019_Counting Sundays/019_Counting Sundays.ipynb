{
 "cells": [
  {
   "cell_type": "code",
   "execution_count": 2,
   "metadata": {
    "collapsed": false
   },
   "outputs": [],
   "source": [
    "from datetime import date\n",
    "from datetime import datetime\n",
    "\n",
    "def CountSundays(start,end):\n",
    "    startdate = datetime.strptime(start,'%m/%d/%Y')\n",
    "    enddate = datetime.strptime(end,'%m/%d/%Y')\n",
    "    \n",
    "    FirstOfMonthSundays = 0\n",
    "    \n",
    "    startmonth = startdate.month\n",
    "    \n",
    "    if startdate.year == enddate.year:\n",
    "        endmonth = enddate.month + 1\n",
    "    else:\n",
    "        endmonth = 13\n",
    "    \n",
    "    for i in range(startdate.year,enddate.year + 1):\n",
    "        for j in range(startmonth,endmonth):\n",
    "            date = datetime.strptime(str(j) + '/01/' + str(i), '%m/%d/%Y')\n",
    "            \n",
    "            if date.strftime('%w') == \"0\":\n",
    "                FirstOfMonthSundays += 1\n",
    "    \n",
    "    return FirstOfMonthSundays"
   ]
  },
  {
   "cell_type": "code",
   "execution_count": 6,
   "metadata": {
    "collapsed": false
   },
   "outputs": [
    {
     "data": {
      "text/plain": [
       "171"
      ]
     },
     "execution_count": 6,
     "metadata": {},
     "output_type": "execute_result"
    }
   ],
   "source": [
    "CountSundays(\"01/01/1901\",\"12/31/2000\")"
   ]
  },
  {
   "cell_type": "code",
   "execution_count": null,
   "metadata": {
    "collapsed": true
   },
   "outputs": [],
   "source": []
  }
 ],
 "metadata": {
  "kernelspec": {
   "display_name": "Python 3",
   "language": "python",
   "name": "python3"
  },
  "language_info": {
   "codemirror_mode": {
    "name": "ipython",
    "version": 3
   },
   "file_extension": ".py",
   "mimetype": "text/x-python",
   "name": "python",
   "nbconvert_exporter": "python",
   "pygments_lexer": "ipython3",
   "version": "3.4.3"
  }
 },
 "nbformat": 4,
 "nbformat_minor": 0
}
