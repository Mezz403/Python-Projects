{
 "cells": [
  {
   "cell_type": "code",
   "execution_count": 3,
   "metadata": {
    "collapsed": false
   },
   "outputs": [],
   "source": [
    "def pandigital_products():\n",
    "    result = set()\n",
    "    product = 0\n",
    "    products = {}\n",
    "    sum_set = set()\n",
    "    \n",
    "    for i in range(1,100):\n",
    "        if i > 9:\n",
    "            n = 123\n",
    "        else:\n",
    "            n = 1234\n",
    "            \n",
    "        for j in range(n, int(10000 / i + 1)):\n",
    "            product = i * j\n",
    "            \n",
    "            value = str(i) + str(j) + str(product)\n",
    "            products[value] = product\n",
    "            \n",
    "            if is_pandigital(value):\n",
    "                result.add(value)\n",
    "            \n",
    "    for k in result:\n",
    "        sum_set.add(products[k])\n",
    "                    \n",
    "    return sum(sum_set)"
   ]
  },
  {
   "cell_type": "code",
   "execution_count": 4,
   "metadata": {
    "collapsed": true
   },
   "outputs": [],
   "source": [
    "def is_pandigital(n):\n",
    "    tmp = set(map(int, str(n)))\n",
    "    pan = set(range(1,len(str(n)) + 1))\n",
    "    \n",
    "    if tmp == pan:\n",
    "        return True\n",
    "    else:\n",
    "        return False"
   ]
  },
  {
   "cell_type": "code",
   "execution_count": 5,
   "metadata": {
    "collapsed": false
   },
   "outputs": [
    {
     "data": {
      "text/plain": [
       "45228"
      ]
     },
     "execution_count": 5,
     "metadata": {},
     "output_type": "execute_result"
    }
   ],
   "source": [
    "pandigital_products()"
   ]
  },
  {
   "cell_type": "code",
   "execution_count": null,
   "metadata": {
    "collapsed": true
   },
   "outputs": [],
   "source": []
  }
 ],
 "metadata": {
  "kernelspec": {
   "display_name": "Python 3",
   "language": "python",
   "name": "python3"
  },
  "language_info": {
   "codemirror_mode": {
    "name": "ipython",
    "version": 3
   },
   "file_extension": ".py",
   "mimetype": "text/x-python",
   "name": "python",
   "nbconvert_exporter": "python",
   "pygments_lexer": "ipython3",
   "version": "3.4.3"
  }
 },
 "nbformat": 4,
 "nbformat_minor": 0
}
