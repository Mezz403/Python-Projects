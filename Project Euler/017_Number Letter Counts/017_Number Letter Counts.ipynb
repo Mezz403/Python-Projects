{
 "cells": [
  {
   "cell_type": "code",
   "execution_count": 1,
   "metadata": {
    "collapsed": true
   },
   "outputs": [],
   "source": [
    "# Source: http://stackoverflow.com/questions/12647254/project-euler-17\n",
    "\n",
    "unit_names = \"\"\"zero one two three four five six seven eight nine ten\n",
    "                eleven twelve thirteen fourteen fifteen sixteen seventeen\n",
    "                eighteen nineteen\"\"\".split()\n",
    "tens_names = \"\"\"zero ten twenty thirty forty fifty sixty seventy eighty\n",
    "                ninety\"\"\".split()\n",
    "\n",
    "def english(n):\n",
    "    \"Return the English name for n, from 0 to 999999.\"\n",
    "    if n >= 1000:\n",
    "        thous = english(n // 1000) + \" thousand\"\n",
    "        n = n % 1000\n",
    "        if n == 0:\n",
    "            return thous\n",
    "        elif n < 100:\n",
    "            return thous + \" and \" + english(n)\n",
    "        else:\n",
    "            return thous + \", \" + english(n)\n",
    "    elif n >= 100:\n",
    "        huns = unit_names[n // 100] + \" hundred\"\n",
    "        n = n % 100\n",
    "        if n == 0:\n",
    "            return huns\n",
    "        else:\n",
    "            return huns + \" and \" + english(n)\n",
    "    elif n >= 20:\n",
    "        tens = tens_names[n // 10]\n",
    "        n = n % 10\n",
    "        if n == 0:\n",
    "            return tens\n",
    "        else:\n",
    "            return tens + \"-\" + english(n)\n",
    "    else:\n",
    "        return unit_names[n]\n",
    "\n",
    "def letter_count(s):\n",
    "    \"Return the number of letters in the string s.\"\n",
    "    import re\n",
    "    return len(re.findall(r'[a-zA-Z]', s))\n",
    "\n",
    "def euler17():\n",
    "    return sum(letter_count(english(i)) for i in range(1, 7))"
   ]
  },
  {
   "cell_type": "code",
   "execution_count": 2,
   "metadata": {
    "collapsed": false
   },
   "outputs": [
    {
     "data": {
      "text/plain": [
       "22"
      ]
     },
     "execution_count": 2,
     "metadata": {},
     "output_type": "execute_result"
    }
   ],
   "source": [
    "euler17()"
   ]
  },
  {
   "cell_type": "code",
   "execution_count": null,
   "metadata": {
    "collapsed": true
   },
   "outputs": [],
   "source": []
  }
 ],
 "metadata": {
  "kernelspec": {
   "display_name": "Python 3",
   "language": "python",
   "name": "python3"
  },
  "language_info": {
   "codemirror_mode": {
    "name": "ipython",
    "version": 3
   },
   "file_extension": ".py",
   "mimetype": "text/x-python",
   "name": "python",
   "nbconvert_exporter": "python",
   "pygments_lexer": "ipython3",
   "version": "3.4.3"
  }
 },
 "nbformat": 4,
 "nbformat_minor": 0
}
