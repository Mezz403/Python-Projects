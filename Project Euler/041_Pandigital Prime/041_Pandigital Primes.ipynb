{
 "cells": [
  {
   "cell_type": "code",
   "execution_count": 1,
   "metadata": {
    "collapsed": true
   },
   "outputs": [],
   "source": [
    "from math import sqrt"
   ]
  },
  {
   "cell_type": "code",
   "execution_count": 6,
   "metadata": {
    "collapsed": true
   },
   "outputs": [],
   "source": [
    "def primes_below_n(n):\n",
    "    sqrt_n = int(sqrt(n))\n",
    "    \n",
    "    #Based on sieve of Eratosthenes\n",
    "    no_primes = set({j for i in range(2, sqrt_n+1) for j in range(i*2, n, i)})\n",
    "    \n",
    "    primes = set({i for i in range(2,n) if i not in no_primes})\n",
    "    \n",
    "    return primes"
   ]
  },
  {
   "cell_type": "code",
   "execution_count": 7,
   "metadata": {
    "collapsed": true
   },
   "outputs": [],
   "source": [
    "def is_pandigital(n):\n",
    "    tmp = set(map(int, str(n)))\n",
    "    pan = set(range(1,len(str(n)) + 1))\n",
    "    \n",
    "    if tmp == pan:\n",
    "        return True\n",
    "    else:\n",
    "        return False"
   ]
  },
  {
   "cell_type": "code",
   "execution_count": 17,
   "metadata": {
    "collapsed": false
   },
   "outputs": [],
   "source": [
    "def project_euler41():\n",
    "    primes = primes_below_n(7654322)\n",
    "    primes = filter(lambda a: a < 7654322, primes)\n",
    "    \n",
    "    pan_primes = []\n",
    "    \n",
    "    for prime in primes:\n",
    "        if is_pandigital(prime):\n",
    "             pan_primes.append(prime)\n",
    "\n",
    "    return max(pan_primes)"
   ]
  },
  {
   "cell_type": "code",
   "execution_count": 18,
   "metadata": {
    "collapsed": false
   },
   "outputs": [
    {
     "data": {
      "text/plain": [
       "7652413"
      ]
     },
     "execution_count": 18,
     "metadata": {},
     "output_type": "execute_result"
    }
   ],
   "source": [
    "project_euler41()"
   ]
  },
  {
   "cell_type": "code",
   "execution_count": null,
   "metadata": {
    "collapsed": true
   },
   "outputs": [],
   "source": []
  }
 ],
 "metadata": {
  "kernelspec": {
   "display_name": "Python 3",
   "language": "python",
   "name": "python3"
  },
  "language_info": {
   "codemirror_mode": {
    "name": "ipython",
    "version": 3
   },
   "file_extension": ".py",
   "mimetype": "text/x-python",
   "name": "python",
   "nbconvert_exporter": "python",
   "pygments_lexer": "ipython3",
   "version": "3.4.3"
  }
 },
 "nbformat": 4,
 "nbformat_minor": 0
}
