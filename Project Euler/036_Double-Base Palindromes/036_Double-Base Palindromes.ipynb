{
 "cells": [
  {
   "cell_type": "code",
   "execution_count": 5,
   "metadata": {
    "collapsed": true
   },
   "outputs": [],
   "source": [
    "def palindromes_base10(limit):\n",
    "    palindromes = set()\n",
    "    \n",
    "    for i in range(0,limit):\n",
    "        if str(i) == str(i)[::-1]:\n",
    "            palindromes.add(i)\n",
    "    \n",
    "    return palindromes"
   ]
  },
  {
   "cell_type": "code",
   "execution_count": 27,
   "metadata": {
    "collapsed": false
   },
   "outputs": [],
   "source": [
    "def palindromes_base2(limit):\n",
    "    palindromes = set()\n",
    "    \n",
    "    for i in range(0,limit):\n",
    "        b = \"{0:b}\".format(i)\n",
    "        \n",
    "        if str(b) == str(b)[::-1]:\n",
    "            palindromes.add(i)\n",
    "            \n",
    "    return palindromes"
   ]
  },
  {
   "cell_type": "code",
   "execution_count": 33,
   "metadata": {
    "collapsed": false
   },
   "outputs": [],
   "source": [
    "def project_euler36(limit):\n",
    "    a = palindromes_base10(limit)\n",
    "    b = palindromes_base2(limit)\n",
    "    \n",
    "    palindromes = a.intersection(b)\n",
    "    \n",
    "    return sum(palindromes)"
   ]
  },
  {
   "cell_type": "code",
   "execution_count": 38,
   "metadata": {
    "collapsed": false
   },
   "outputs": [
    {
     "data": {
      "text/plain": [
       "872187"
      ]
     },
     "execution_count": 38,
     "metadata": {},
     "output_type": "execute_result"
    }
   ],
   "source": [
    "project_euler36(1000000)"
   ]
  },
  {
   "cell_type": "code",
   "execution_count": null,
   "metadata": {
    "collapsed": true
   },
   "outputs": [],
   "source": []
  }
 ],
 "metadata": {
  "kernelspec": {
   "display_name": "Python 3",
   "language": "python",
   "name": "python3"
  },
  "language_info": {
   "codemirror_mode": {
    "name": "ipython",
    "version": 3
   },
   "file_extension": ".py",
   "mimetype": "text/x-python",
   "name": "python",
   "nbconvert_exporter": "python",
   "pygments_lexer": "ipython3",
   "version": "3.4.3"
  }
 },
 "nbformat": 4,
 "nbformat_minor": 0
}
