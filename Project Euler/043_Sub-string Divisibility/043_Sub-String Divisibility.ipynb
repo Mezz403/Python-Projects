{
 "cells": [
  {
   "cell_type": "code",
   "execution_count": 1,
   "metadata": {
    "collapsed": true
   },
   "outputs": [],
   "source": [
    "from itertools import permutations\n",
    "from functools import reduce"
   ]
  },
  {
   "cell_type": "code",
   "execution_count": 2,
   "metadata": {
    "collapsed": true
   },
   "outputs": [],
   "source": [
    "def splice(n):\n",
    "    nums = []\n",
    "    \n",
    "    for i in range(1,8):\n",
    "        nums.append(int(str(n)[i:i + 3]))\n",
    "    \n",
    "    return nums"
   ]
  },
  {
   "cell_type": "code",
   "execution_count": 9,
   "metadata": {
    "collapsed": false
   },
   "outputs": [],
   "source": [
    "def project_euler43():\n",
    "    pandigitals = list(permutations(range(10)))\n",
    "    primes = [2, 3, 5, 7, 11, 13, 17]\n",
    "    divisible = []\n",
    "    tmp = []    \n",
    "    \n",
    "    for pandigital in pandigitals:\n",
    "        if pandigital[0] > 0:\n",
    "            p = reduce(lambda rst, d: rst * 10 + d, pandigital)\n",
    "            tmp.append(p)\n",
    "    \n",
    "    pandigitals = tmp\n",
    "    \n",
    "    for pandigital in pandigitals:\n",
    "        sub = splice(pandigital)\n",
    "        index = -1\n",
    "        no = 0\n",
    "        \n",
    "        for i in primes:\n",
    "            index += 1\n",
    "            if sub[index] % i == 0:\n",
    "                next\n",
    "            else:\n",
    "                no = 1\n",
    "                break\n",
    "    \n",
    "        if no == 1:\n",
    "            next\n",
    "        else:\n",
    "            divisible.append(pandigital)\n",
    "    \n",
    "    return sum(divisible)"
   ]
  },
  {
   "cell_type": "code",
   "execution_count": 7,
   "metadata": {
    "collapsed": false
   },
   "outputs": [
    {
     "data": {
      "text/plain": [
       "16695334890"
      ]
     },
     "execution_count": 7,
     "metadata": {},
     "output_type": "execute_result"
    }
   ],
   "source": [
    "project_euler43()"
   ]
  },
  {
   "cell_type": "code",
   "execution_count": 8,
   "metadata": {
    "collapsed": false
   },
   "outputs": [
    {
     "name": "stdout",
     "output_type": "stream",
     "text": [
      "1 loops, best of 3: 37.3 s per loop\n"
     ]
    }
   ],
   "source": [
    "%timeit project_euler43()"
   ]
  },
  {
   "cell_type": "code",
   "execution_count": null,
   "metadata": {
    "collapsed": true
   },
   "outputs": [],
   "source": []
  }
 ],
 "metadata": {
  "kernelspec": {
   "display_name": "Python 3",
   "language": "python",
   "name": "python3"
  },
  "language_info": {
   "codemirror_mode": {
    "name": "ipython",
    "version": 3
   },
   "file_extension": ".py",
   "mimetype": "text/x-python",
   "name": "python",
   "nbconvert_exporter": "python",
   "pygments_lexer": "ipython3",
   "version": "3.4.3"
  }
 },
 "nbformat": 4,
 "nbformat_minor": 0
}
