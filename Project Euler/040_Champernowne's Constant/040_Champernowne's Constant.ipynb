{
 "cells": [
  {
   "cell_type": "code",
   "execution_count": 6,
   "metadata": {
    "collapsed": true
   },
   "outputs": [],
   "source": [
    "def champerknowne_constant(limit):\n",
    "    constant = []\n",
    "    digits = []\n",
    "    \n",
    "    i = 1\n",
    "    \n",
    "    while len(constant) < limit:\n",
    "        digits = list(map(int,str(i)))\n",
    "        \n",
    "        for j in range(0, len(digits)):\n",
    "            constant.append(digits[j])\n",
    "        \n",
    "        i += 1\n",
    "        \n",
    "    return constant"
   ]
  },
  {
   "cell_type": "code",
   "execution_count": 9,
   "metadata": {
    "collapsed": false
   },
   "outputs": [],
   "source": [
    "def project_euler40(limit):\n",
    "    constant = champerknowne_constant(limit)\n",
    "    \n",
    "    return constant[0] * constant[9] * constant[99] * constant[999] * constant[9999] * constant[99999] * constant[999999]"
   ]
  },
  {
   "cell_type": "code",
   "execution_count": 10,
   "metadata": {
    "collapsed": false
   },
   "outputs": [
    {
     "data": {
      "text/plain": [
       "210"
      ]
     },
     "execution_count": 10,
     "metadata": {},
     "output_type": "execute_result"
    }
   ],
   "source": [
    "project_euler40(1000001)"
   ]
  }
 ],
 "metadata": {
  "kernelspec": {
   "display_name": "Python 3",
   "language": "python",
   "name": "python3"
  },
  "language_info": {
   "codemirror_mode": {
    "name": "ipython",
    "version": 3
   },
   "file_extension": ".py",
   "mimetype": "text/x-python",
   "name": "python",
   "nbconvert_exporter": "python",
   "pygments_lexer": "ipython3",
   "version": "3.4.3"
  }
 },
 "nbformat": 4,
 "nbformat_minor": 0
}
