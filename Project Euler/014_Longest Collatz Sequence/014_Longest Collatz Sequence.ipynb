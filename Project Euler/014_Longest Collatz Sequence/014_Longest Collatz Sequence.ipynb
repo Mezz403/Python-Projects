{
 "cells": [
  {
   "cell_type": "code",
   "execution_count": 52,
   "metadata": {
    "collapsed": false
   },
   "outputs": [],
   "source": [
    "def Collatz(limit):\n",
    "    n = 0\n",
    "    longest_sequence = 0\n",
    "    number = 0\n",
    "    \n",
    "    iseven = lambda x:True if x % 2 == 0 else False\n",
    "    \n",
    "    for i in range(2, limit):\n",
    "        count = 1\n",
    "        n = i\n",
    "        \n",
    "        while n > 1:\n",
    "            if iseven(n):\n",
    "                n /= 2\n",
    "            else:\n",
    "                n = 3*n + 1\n",
    "            \n",
    "            count += 1\n",
    "            \n",
    "            if count > longest_sequence:\n",
    "                longest_sequence = count\n",
    "                number = i\n",
    "        \n",
    "    return print(\"Longest Sequence:\",longest_sequence,\"\\nNumber:\",number)"
   ]
  },
  {
   "cell_type": "code",
   "execution_count": 53,
   "metadata": {
    "collapsed": false
   },
   "outputs": [
    {
     "name": "stdout",
     "output_type": "stream",
     "text": [
      "Longest Sequence: 20 \n",
      "Number: 9\n"
     ]
    }
   ],
   "source": [
    "Collatz(14)"
   ]
  },
  {
   "cell_type": "code",
   "execution_count": 54,
   "metadata": {
    "collapsed": false
   },
   "outputs": [
    {
     "name": "stdout",
     "output_type": "stream",
     "text": [
      "Longest Sequence: 21 \n",
      "Number: 18\n"
     ]
    }
   ],
   "source": [
    "Collatz(20)"
   ]
  },
  {
   "cell_type": "code",
   "execution_count": 55,
   "metadata": {
    "collapsed": false
   },
   "outputs": [
    {
     "name": "stdout",
     "output_type": "stream",
     "text": [
      "Longest Sequence: 119 \n",
      "Number: 97\n"
     ]
    }
   ],
   "source": [
    "Collatz(100)"
   ]
  },
  {
   "cell_type": "code",
   "execution_count": 56,
   "metadata": {
    "collapsed": false
   },
   "outputs": [
    {
     "name": "stdout",
     "output_type": "stream",
     "text": [
      "Longest Sequence: 179 \n",
      "Number: 871\n"
     ]
    }
   ],
   "source": [
    "Collatz(1000)"
   ]
  },
  {
   "cell_type": "code",
   "execution_count": 57,
   "metadata": {
    "collapsed": false
   },
   "outputs": [
    {
     "name": "stdout",
     "output_type": "stream",
     "text": [
      "Longest Sequence: 262 \n",
      "Number: 6171\n"
     ]
    }
   ],
   "source": [
    "Collatz(10000)"
   ]
  },
  {
   "cell_type": "code",
   "execution_count": 58,
   "metadata": {
    "collapsed": false
   },
   "outputs": [
    {
     "name": "stdout",
     "output_type": "stream",
     "text": [
      "Longest Sequence: 351 \n",
      "Number: 77031\n"
     ]
    }
   ],
   "source": [
    "Collatz(100000)"
   ]
  },
  {
   "cell_type": "code",
   "execution_count": 59,
   "metadata": {
    "collapsed": false
   },
   "outputs": [
    {
     "name": "stdout",
     "output_type": "stream",
     "text": [
      "Longest Sequence: 525 \n",
      "Number: 837799\n"
     ]
    }
   ],
   "source": [
    "Collatz(1000000)"
   ]
  },
  {
   "cell_type": "code",
   "execution_count": 60,
   "metadata": {
    "collapsed": false
   },
   "outputs": [
    {
     "name": "stdout",
     "output_type": "stream",
     "text": [
      "Longest Sequence: 525 \n",
      "Number: 837799\n",
      "Longest Sequence: 525 \n",
      "Number: 837799\n",
      "Longest Sequence: 525 \n",
      "Number: 837799\n",
      "Longest Sequence: 525 \n",
      "Number: 837799\n",
      "1 loops, best of 3: 1min 28s per loop\n"
     ]
    }
   ],
   "source": [
    "%timeit[Collatz(1000000)]"
   ]
  },
  {
   "cell_type": "code",
   "execution_count": null,
   "metadata": {
    "collapsed": true
   },
   "outputs": [],
   "source": []
  }
 ],
 "metadata": {
  "kernelspec": {
   "display_name": "Python 3",
   "language": "python",
   "name": "python3"
  },
  "language_info": {
   "codemirror_mode": {
    "name": "ipython",
    "version": 3
   },
   "file_extension": ".py",
   "mimetype": "text/x-python",
   "name": "python",
   "nbconvert_exporter": "python",
   "pygments_lexer": "ipython3",
   "version": "3.4.3"
  }
 },
 "nbformat": 4,
 "nbformat_minor": 0
}
