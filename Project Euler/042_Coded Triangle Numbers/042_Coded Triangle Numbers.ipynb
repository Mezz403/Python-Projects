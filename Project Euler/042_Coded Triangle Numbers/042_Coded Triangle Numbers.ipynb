{
 "cells": [
  {
   "cell_type": "code",
   "execution_count": 14,
   "metadata": {
    "collapsed": true
   },
   "outputs": [],
   "source": [
    "import string\n",
    "from collections import OrderedDict"
   ]
  },
  {
   "cell_type": "code",
   "execution_count": 29,
   "metadata": {
    "collapsed": false
   },
   "outputs": [],
   "source": [
    "def triangle_numbers_below_n(n):\n",
    "    triangle_numbers = set()\n",
    "    tn = 0\n",
    "    i = 1\n",
    "    \n",
    "    while tn < n:\n",
    "        tn = (1 / 2) * i * (i + 1)\n",
    "        triangle_numbers.add(int(tn))\n",
    "        i += 1\n",
    "        \n",
    "    return triangle_numbers"
   ]
  },
  {
   "cell_type": "code",
   "execution_count": 16,
   "metadata": {
    "collapsed": true
   },
   "outputs": [],
   "source": [
    "def import_words(path):\n",
    "    file = open(path)\n",
    "    words = file.read().split(',')\n",
    "    \n",
    "    for i in range(0,len(words)):\n",
    "        words[i] = words[i].replace('\\\"','')\n",
    "        \n",
    "    return words"
   ]
  },
  {
   "cell_type": "code",
   "execution_count": 22,
   "metadata": {
    "collapsed": true
   },
   "outputs": [],
   "source": [
    "def word_value(word_list):\n",
    "    alpha_dict = OrderedDict(zip(string.ascii_uppercase, range(1,27)))\n",
    "    word_values = {}\n",
    "    \n",
    "    for word in word_list:\n",
    "        char_array = list(word)\n",
    "        sum = 0\n",
    "        \n",
    "        for char in char_array:\n",
    "            sum += alpha_dict[char]\n",
    "        \n",
    "        word_values[word] = sum\n",
    "        \n",
    "    return word_values"
   ]
  },
  {
   "cell_type": "code",
   "execution_count": 59,
   "metadata": {
    "collapsed": false
   },
   "outputs": [],
   "source": [
    "def project_euler42(path):\n",
    "    triangle_words = set()\n",
    "    \n",
    "    words = import_words(path)    \n",
    "    values = word_value(words)\n",
    "    \n",
    "    limit = len(max(words, key = len)) * 26\n",
    "    \n",
    "    triangle_numbers = triangle_numbers_below_n(limit)\n",
    "    \n",
    "    for k,v in values.items():\n",
    "        if v in triangle_numbers:\n",
    "            triangle_words.add(k)\n",
    "    \n",
    "    return len(triangle_words)"
   ]
  },
  {
   "cell_type": "code",
   "execution_count": 60,
   "metadata": {
    "collapsed": false
   },
   "outputs": [
    {
     "data": {
      "text/plain": [
       "162"
      ]
     },
     "execution_count": 60,
     "metadata": {},
     "output_type": "execute_result"
    }
   ],
   "source": [
    "project_euler42(\"C:\\\\Users\\\\Owner\\\\Dropbox\\\\Python Scripts\\\\Project Euler\\\\042_Coded Triangle Numbers\\\\p042_words.txt\")"
   ]
  },
  {
   "cell_type": "code",
   "execution_count": null,
   "metadata": {
    "collapsed": true
   },
   "outputs": [],
   "source": []
  }
 ],
 "metadata": {
  "kernelspec": {
   "display_name": "Python 3",
   "language": "python",
   "name": "python3"
  },
  "language_info": {
   "codemirror_mode": {
    "name": "ipython",
    "version": 3
   },
   "file_extension": ".py",
   "mimetype": "text/x-python",
   "name": "python",
   "nbconvert_exporter": "python",
   "pygments_lexer": "ipython3",
   "version": "3.4.3"
  }
 },
 "nbformat": 4,
 "nbformat_minor": 0
}
