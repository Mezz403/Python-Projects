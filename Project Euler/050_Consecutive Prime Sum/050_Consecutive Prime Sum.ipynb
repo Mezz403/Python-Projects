{
 "cells": [
  {
   "cell_type": "code",
   "execution_count": 2,
   "metadata": {
    "collapsed": true
   },
   "outputs": [],
   "source": [
    "# http://stackoverflow.com/questions/567222/simple-prime-generator-in-python\n",
    "\n",
    "def gen_primes():\n",
    "    \"\"\" Generate an infinite sequence of prime numbers.\n",
    "    \"\"\"\n",
    "    D = {}\n",
    "    q = 2\n",
    "    \n",
    "    while True:\n",
    "        if q not in D:\n",
    "            yield q\n",
    "            D[q * q] = [q]\n",
    "        else:\n",
    "            for p in D[q]:\n",
    "                D.setdefault(p + q, []).append(p)\n",
    "            del D[q]\n",
    "        \n",
    "        q += 1"
   ]
  },
  {
   "cell_type": "code",
   "execution_count": 3,
   "metadata": {
    "collapsed": false
   },
   "outputs": [],
   "source": [
    "def f_list(x):\n",
    "    prime = gen_primes()\n",
    "    arr = set()\n",
    "    y = 0\n",
    "    \n",
    "    while y < x:\n",
    "        y = next(prime)\n",
    "        arr.add(y)\n",
    "        \n",
    "    arr.discard(x)\n",
    "    \n",
    "    return arr"
   ]
  },
  {
   "cell_type": "code",
   "execution_count": 4,
   "metadata": {
    "collapsed": false
   },
   "outputs": [],
   "source": [
    "def is_prime(n):\n",
    "    if n == 2 or n == 3: \n",
    "        return True\n",
    "    if n < 2 or n%2 == 0: \n",
    "        return False\n",
    "    if n < 9: \n",
    "        return True\n",
    "    if n%3 == 0: \n",
    "        return False\n",
    "    \n",
    "    r = int(n**0.5)\n",
    "    f = 5\n",
    "    \n",
    "    while f <= r:\n",
    "        if n%f == 0: \n",
    "            return False\n",
    "        if n%(f+2) == 0: \n",
    "            return False\n",
    "        f +=6\n",
    "    \n",
    "    return True "
   ]
  },
  {
   "cell_type": "code",
   "execution_count": 5,
   "metadata": {
    "collapsed": false
   },
   "outputs": [],
   "source": [
    "def project_euler50(limit):\n",
    "    is_even = lambda x: x % 2 == 0\n",
    "    \n",
    "    prime_list = list(f_list(limit))\n",
    "    length = 0\n",
    "    \n",
    "    for i in prime_list:\n",
    "        list1 = f_list(i)\n",
    "        \n",
    "        if sum(list1) > limit:\n",
    "            break\n",
    "        elif is_even(sum(list1)):\n",
    "            next\n",
    "        elif is_prime(sum(list1)):\n",
    "            if len(list1) > length:\n",
    "                listf = list1\n",
    "                length = len(list1)\n",
    "                total = sum(list1)\n",
    "                \n",
    "    for i in range(0,len(prime_list)): \n",
    "        for j in range(0, i):            \n",
    "            list1 = f_list(prime_list[i])\n",
    "            list2 = f_list(prime_list[j])\n",
    "            difference = list1.difference(list2)\n",
    "            listsum = sum(difference)\n",
    "            \n",
    "            if listsum > limit:\n",
    "                break\n",
    "            elif is_even(listsum):\n",
    "                next\n",
    "            elif is_prime(listsum):\n",
    "                if len(difference) > length:\n",
    "                    listf = difference\n",
    "                    length = len(difference)\n",
    "                    total = listsum\n",
    "    \n",
    "    return length, total"
   ]
  },
  {
   "cell_type": "code",
   "execution_count": 6,
   "metadata": {
    "collapsed": false
   },
   "outputs": [
    {
     "data": {
      "text/plain": [
       "(6, 41)"
      ]
     },
     "execution_count": 6,
     "metadata": {},
     "output_type": "execute_result"
    }
   ],
   "source": [
    "project_euler50(100)"
   ]
  },
  {
   "cell_type": "code",
   "execution_count": null,
   "metadata": {
    "collapsed": true
   },
   "outputs": [],
   "source": []
  }
 ],
 "metadata": {
  "kernelspec": {
   "display_name": "Python 3",
   "language": "python",
   "name": "python3"
  },
  "language_info": {
   "codemirror_mode": {
    "name": "ipython",
    "version": 3
   },
   "file_extension": ".py",
   "mimetype": "text/x-python",
   "name": "python",
   "nbconvert_exporter": "python",
   "pygments_lexer": "ipython3",
   "version": "3.5.0"
  }
 },
 "nbformat": 4,
 "nbformat_minor": 0
}
