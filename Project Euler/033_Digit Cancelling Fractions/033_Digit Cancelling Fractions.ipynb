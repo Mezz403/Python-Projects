{
 "cells": [
  {
   "cell_type": "code",
   "execution_count": 4,
   "metadata": {
    "collapsed": false
   },
   "outputs": [],
   "source": [
    "from fractions import Fraction"
   ]
  },
  {
   "cell_type": "code",
   "execution_count": 31,
   "metadata": {
    "collapsed": false
   },
   "outputs": [],
   "source": [
    "def digit_cancelling_fractions():\n",
    "    ones = lambda x:int(x % 10)\n",
    "    tens = lambda x:int((x - x % 10) / 10)\n",
    "    \n",
    "    curious_fractions = []\n",
    "    reduced_fractions = []\n",
    "    \n",
    "    product = 1\n",
    "    \n",
    "    for i in range(10,100):\n",
    "        for j in range(10,100):\n",
    "            if i/j >= 1:\n",
    "                next\n",
    "            else:\n",
    "                curious_num = ones(i)\n",
    "                curious_den = tens(j)\n",
    "\n",
    "                if curious_num == curious_den:\n",
    "                    if(ones(j)) == 0:\n",
    "                        next\n",
    "                    elif i/j == tens(i)/ones(j):\n",
    "                        curious_fractions.append([i,j])\n",
    "                        reduced_fractions.append(Fraction(tens(i), ones(j)))\n",
    "    \n",
    "    for i in reduced_fractions:\n",
    "        product *= i\n",
    "        \n",
    "    \n",
    "    return Fraction(product).denominator"
   ]
  },
  {
   "cell_type": "code",
   "execution_count": 33,
   "metadata": {
    "collapsed": false
   },
   "outputs": [
    {
     "data": {
      "text/plain": [
       "100"
      ]
     },
     "execution_count": 33,
     "metadata": {},
     "output_type": "execute_result"
    }
   ],
   "source": [
    "digit_cancelling_fractions()"
   ]
  },
  {
   "cell_type": "code",
   "execution_count": null,
   "metadata": {
    "collapsed": true
   },
   "outputs": [],
   "source": []
  }
 ],
 "metadata": {
  "kernelspec": {
   "display_name": "Python 3",
   "language": "python",
   "name": "python3"
  },
  "language_info": {
   "codemirror_mode": {
    "name": "ipython",
    "version": 3
   },
   "file_extension": ".py",
   "mimetype": "text/x-python",
   "name": "python",
   "nbconvert_exporter": "python",
   "pygments_lexer": "ipython3",
   "version": "3.4.3"
  }
 },
 "nbformat": 4,
 "nbformat_minor": 0
}
