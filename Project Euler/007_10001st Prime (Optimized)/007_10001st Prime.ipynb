{
 "cells": [
  {
   "cell_type": "markdown",
   "metadata": {},
   "source": [
    "#10001st Prime\n",
    "\n",
    "By listing the first six prime numbers: 2, 3, 5, 7, 11, 13, we can see that the 6th prime is 13.\n",
    "\n",
    "What is the 10001st prime number?"
   ]
  },
  {
   "cell_type": "code",
   "execution_count": 20,
   "metadata": {
    "collapsed": true
   },
   "outputs": [],
   "source": [
    "def prime_generator():\n",
    "    D = {}\n",
    "    q = 2\n",
    "    \n",
    "    while True:\n",
    "        if q not in D:\n",
    "            yield q\n",
    "            D[q * q] = [q]\n",
    "        else:\n",
    "            for p in D[q]:\n",
    "                D.setdefault(p + q, []).append(p)\n",
    "            del D[q]\n",
    "        \n",
    "        q += 1"
   ]
  },
  {
   "cell_type": "code",
   "execution_count": 21,
   "metadata": {
    "collapsed": false
   },
   "outputs": [],
   "source": [
    "def project_euler7(limit):\n",
    "    primes = prime_generator()\n",
    "    \n",
    "    for i in range(limit):\n",
    "        prime = next(primes)\n",
    "        \n",
    "    return prime    "
   ]
  },
  {
   "cell_type": "code",
   "execution_count": 22,
   "metadata": {
    "collapsed": false
   },
   "outputs": [
    {
     "data": {
      "text/plain": [
       "104743"
      ]
     },
     "execution_count": 22,
     "metadata": {},
     "output_type": "execute_result"
    }
   ],
   "source": [
    "project_euler7(10001)"
   ]
  },
  {
   "cell_type": "code",
   "execution_count": 23,
   "metadata": {
    "collapsed": false
   },
   "outputs": [
    {
     "name": "stdout",
     "output_type": "stream",
     "text": [
      "10 loops, best of 3: 115 ms per loop\n"
     ]
    }
   ],
   "source": [
    "%timeit project_euler7(10001)"
   ]
  },
  {
   "cell_type": "code",
   "execution_count": null,
   "metadata": {
    "collapsed": true
   },
   "outputs": [],
   "source": []
  }
 ],
 "metadata": {
  "kernelspec": {
   "display_name": "Python 3",
   "language": "python",
   "name": "python3"
  },
  "language_info": {
   "codemirror_mode": {
    "name": "ipython",
    "version": 3
   },
   "file_extension": ".py",
   "mimetype": "text/x-python",
   "name": "python",
   "nbconvert_exporter": "python",
   "pygments_lexer": "ipython3",
   "version": "3.4.3"
  }
 },
 "nbformat": 4,
 "nbformat_minor": 0
}
