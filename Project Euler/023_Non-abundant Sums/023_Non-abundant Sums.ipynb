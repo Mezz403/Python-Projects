{
 "cells": [
  {
   "cell_type": "code",
   "execution_count": 4,
   "metadata": {
    "collapsed": true
   },
   "outputs": [],
   "source": [
    "def proper_divisors(n):\n",
    "    properdivisors = []\n",
    "    \n",
    "    for i in range(1,n):\n",
    "        if n%i == 0:\n",
    "            properdivisors.append(i)\n",
    "        \n",
    "    return properdivisors"
   ]
  },
  {
   "cell_type": "code",
   "execution_count": 5,
   "metadata": {
    "collapsed": true
   },
   "outputs": [],
   "source": [
    "def abundants_smaller_than_n(n):\n",
    "    abundants = []\n",
    "    total = 0\n",
    "    \n",
    "    for i in range(0,n):\n",
    "        \n",
    "        divisors = []\n",
    "        \n",
    "        divisors = proper_divisors(i)\n",
    "        total = sum(divisors)\n",
    "        \n",
    "        if total > i:\n",
    "            abundants.append(i)\n",
    "        \n",
    "    return abundants        "
   ]
  },
  {
   "cell_type": "code",
   "execution_count": 58,
   "metadata": {
    "collapsed": false
   },
   "outputs": [],
   "source": [
    "def abundant_sums(abundants,n):\n",
    "    total = 0\n",
    "    found = 0\n",
    "    totals = []\n",
    "    \n",
    "    for i in range(0,len(abundants)):        \n",
    "        for j in range(i,len(abundants)):\n",
    "            if (abundants[i] > n/2) and (abundants[j] > n/2):\n",
    "                return totals\n",
    "            else:\n",
    "                total = abundants[i] + abundants[j]\n",
    "            \n",
    "                if total > n:\n",
    "                    break\n",
    "\n",
    "                for a in range(0,len(totals)):\n",
    "                    if total == totals[a]:\n",
    "                        found = 1\n",
    "                        break\n",
    "\n",
    "                if found == 1:\n",
    "                    next\n",
    "                else:\n",
    "                    totals.append(total)\n",
    "    \n",
    "    return totals"
   ]
  },
  {
   "cell_type": "code",
   "execution_count": null,
   "metadata": {
    "collapsed": false
   },
   "outputs": [],
   "source": [
    "abundants = abundants_smaller_than_n(28123)\n",
    "abundant_sums_smaller_than_n = abundant_sums(abundants,28123)\n",
    "non_abundant_sums = []\n",
    "\n",
    "for a in range(0,28124):\n",
    "    if a in abundant_sums_smaller_than_n:\n",
    "        next\n",
    "    else:\n",
    "        non_abundant_sums.append(a)\n",
    "\n",
    "total = sum(non_abundant_sums)\n",
    "print(total)"
   ]
  },
  {
   "cell_type": "code",
   "execution_count": 61,
   "metadata": {
    "collapsed": false
   },
   "outputs": [
    {
     "name": "stdout",
     "output_type": "stream",
     "text": [
      "97832594\n"
     ]
    }
   ],
   "source": [
    "n = 28123\n",
    "abundants = abundants_smaller_than_n(n)\n",
    "abundant_sum = abundant_sums(abundants,n)\n",
    "print(sum(abundant_sum))"
   ]
  },
  {
   "cell_type": "code",
   "execution_count": 13,
   "metadata": {
    "collapsed": false
   },
   "outputs": [
    {
     "name": "stdout",
     "output_type": "stream",
     "text": [
      "4179871\n"
     ]
    }
   ],
   "source": [
    "def divisors_sieve(lim):\n",
    "    \"\"\"Computes the list of divisors for values up to lim included.\"\"\"\n",
    "    div = [[1] for i in range(lim + 1)]\n",
    "    for i in range(2, 1 + lim // 2):\n",
    "        for j in range(2 * i, lim + 1, i):\n",
    "            div[j].append(i)\n",
    "    return div\n",
    "\n",
    "def solve_euler23():\n",
    "    \"\"\"Return the sum of all positive integers which cannot be written\n",
    "    as the sum of two abundant numbers.\n",
    "    \"\"\"\n",
    "    # mapping from a number to the set of its proper divisors (i.e.,\n",
    "    # excluding the number itself)\n",
    "    MAX = 28123\n",
    "    abundant_numbers = [i for i, d in enumerate(divisors_sieve(MAX)) if i and sum(d) > i]\n",
    "\n",
    "    # make a set so that membership can be tested efficiently\n",
    "    abundant_numbers_set = set(abundant_numbers)\n",
    "\n",
    "    impossible_sum_of_two_abundant_numbers = []\n",
    "    for n in range(1, MAX+1):\n",
    "        lim = n / 2\n",
    "        for abundant in abundant_numbers:\n",
    "            if n - abundant in abundant_numbers_set:\n",
    "                break # is the sum of two abundant numbers\n",
    "            if abundant > lim:\n",
    "                impossible_sum_of_two_abundant_numbers.append(n)\n",
    "                break\n",
    "        else:\n",
    "            impossible_sum_of_two_abundant_numbers.append(n)\n",
    "\n",
    "    return sum(impossible_sum_of_two_abundant_numbers)\n",
    "\n",
    "if __name__=='__main__':\n",
    "    print(solve_euler23())"
   ]
  },
  {
   "cell_type": "code",
   "execution_count": 14,
   "metadata": {
    "collapsed": true
   },
   "outputs": [],
   "source": [
    "def all_sum_divisors(n):\n",
    "    \"\"\"Return a list of the sums of divisors for the numbers below n.\n",
    "\n",
    "    >>> all_sum_divisors(10) # https://oeis.org/A000203\n",
    "    [1, 1, 3, 4, 7, 6, 12, 8, 15, 13]\n",
    "\n",
    "    \"\"\"\n",
    "    result = [1] * n\n",
    "    for p in range(2, n):\n",
    "        if result[p] == 1: # p is prime\n",
    "            p_power, last_m = p, 1\n",
    "            while p_power < n:\n",
    "                m = last_m + p_power\n",
    "                for i in range(p_power, n, p_power):\n",
    "                    result[i] //= last_m\n",
    "                    result[i] *= m\n",
    "                last_m = m\n",
    "                p_power *= p\n",
    "    return result"
   ]
  },
  {
   "cell_type": "code",
   "execution_count": 15,
   "metadata": {
    "collapsed": false
   },
   "outputs": [
    {
     "name": "stdout",
     "output_type": "stream",
     "text": [
      "4179871\n"
     ]
    }
   ],
   "source": [
    "from bisect import bisect\n",
    "from itertools import islice\n",
    "\n",
    "def solve_euler23(n):\n",
    "    \"\"\"Return the sum of all positive integers below n which cannot be\n",
    "    written as the sum of two abundant numbers.\n",
    "\n",
    "    \"\"\"\n",
    "    sum_divisors = all_sum_divisors(n)\n",
    "    abundant = [i for i in range(1, n) if sum_divisors[i] > 2 * i]\n",
    "    abundant_set = set(abundant)\n",
    "    def unsums():\n",
    "        for i in range(1, n):\n",
    "            for j in islice(abundant, bisect(abundant, i // 2)):\n",
    "                if i - j in abundant_set:\n",
    "                    break\n",
    "            else:\n",
    "                yield i\n",
    "    return sum(unsums())\n",
    "\n",
    "print(solve_euler23(n=28124))"
   ]
  },
  {
   "cell_type": "code",
   "execution_count": null,
   "metadata": {
    "collapsed": true
   },
   "outputs": [],
   "source": []
  }
 ],
 "metadata": {
  "kernelspec": {
   "display_name": "Python 3",
   "language": "python",
   "name": "python3"
  },
  "language_info": {
   "codemirror_mode": {
    "name": "ipython",
    "version": 3
   },
   "file_extension": ".py",
   "mimetype": "text/x-python",
   "name": "python",
   "nbconvert_exporter": "python",
   "pygments_lexer": "ipython3",
   "version": "3.4.3"
  }
 },
 "nbformat": 4,
 "nbformat_minor": 0
}
