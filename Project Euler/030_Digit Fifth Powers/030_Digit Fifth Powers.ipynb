{
 "cells": [
  {
   "cell_type": "code",
   "execution_count": 54,
   "metadata": {
    "collapsed": true
   },
   "outputs": [],
   "source": [
    "def fifth_powers():\n",
    "    fifth_powers = []\n",
    "    \n",
    "    for i in range(2, 355000):\n",
    "        digits = list(map(int, str(i)))\n",
    "        sum = 0\n",
    "        \n",
    "        for j in range(len(digits)):\n",
    "            sum += digits[j] ** 5\n",
    "        \n",
    "        if sum == i:\n",
    "            fifth_powers.append(i)\n",
    "            \n",
    "    return fifth_powers"
   ]
  },
  {
   "cell_type": "code",
   "execution_count": 57,
   "metadata": {
    "collapsed": false
   },
   "outputs": [
    {
     "name": "stdout",
     "output_type": "stream",
     "text": [
      "[4150, 4151, 54748, 92727, 93084, 194979]\n"
     ]
    },
    {
     "data": {
      "text/plain": [
       "443839"
      ]
     },
     "execution_count": 57,
     "metadata": {},
     "output_type": "execute_result"
    }
   ],
   "source": [
    "print(fifth_powers())\n",
    "sum(fifth_powers())"
   ]
  }
 ],
 "metadata": {
  "kernelspec": {
   "display_name": "Python 3",
   "language": "python",
   "name": "python3"
  },
  "language_info": {
   "codemirror_mode": {
    "name": "ipython",
    "version": 3
   },
   "file_extension": ".py",
   "mimetype": "text/x-python",
   "name": "python",
   "nbconvert_exporter": "python",
   "pygments_lexer": "ipython3",
   "version": "3.4.3"
  }
 },
 "nbformat": 4,
 "nbformat_minor": 0
}
