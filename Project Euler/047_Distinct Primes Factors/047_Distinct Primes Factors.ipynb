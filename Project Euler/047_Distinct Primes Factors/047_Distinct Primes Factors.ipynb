{
 "cells": [
  {
   "cell_type": "code",
   "execution_count": 105,
   "metadata": {
    "collapsed": true
   },
   "outputs": [],
   "source": [
    "def prime_factors(n):\n",
    "    factors = []\n",
    "    d = 2\n",
    "    \n",
    "    while n > 1:\n",
    "        answer = n % d\n",
    "\n",
    "        while n % d == 0:\n",
    "            factors.append(d)\n",
    "            n /= d\n",
    "        \n",
    "        d += 1\n",
    "        \n",
    "    return set(factors)"
   ]
  },
  {
   "cell_type": "code",
   "execution_count": 111,
   "metadata": {
    "collapsed": true
   },
   "outputs": [],
   "source": [
    "def project_euler47():\n",
    "    notFound = True\n",
    "    i = 3\n",
    "    \n",
    "    while notFound:\n",
    "        consecutive_primes = []\n",
    "        factors = [i]\n",
    "    \n",
    "        while len(factors) != 4:\n",
    "            i += 1\n",
    "            factors = prime_factors(i)            \n",
    "            \n",
    "        consecutive_primes.append(i)\n",
    "        \n",
    "        for j in range(1, 4):\n",
    "            factors = prime_factors(i + j)\n",
    "            \n",
    "            if len(factors) == 4:\n",
    "                consecutive_primes.append(i + j)\n",
    "                next\n",
    "            else:\n",
    "                i += j\n",
    "                break\n",
    "                \n",
    "        if len(consecutive_primes) == 4:\n",
    "            notFound = False\n",
    "        \n",
    "    return consecutive_primes"
   ]
  },
  {
   "cell_type": "code",
   "execution_count": 112,
   "metadata": {
    "collapsed": false
   },
   "outputs": [
    {
     "data": {
      "text/plain": [
       "[134043, 134044, 134045, 134046]"
      ]
     },
     "execution_count": 112,
     "metadata": {},
     "output_type": "execute_result"
    }
   ],
   "source": [
    "project_euler47()"
   ]
  },
  {
   "cell_type": "code",
   "execution_count": null,
   "metadata": {
    "collapsed": true
   },
   "outputs": [],
   "source": []
  }
 ],
 "metadata": {
  "kernelspec": {
   "display_name": "Python 3",
   "language": "python",
   "name": "python3"
  },
  "language_info": {
   "codemirror_mode": {
    "name": "ipython",
    "version": 3
   },
   "file_extension": ".py",
   "mimetype": "text/x-python",
   "name": "python",
   "nbconvert_exporter": "python",
   "pygments_lexer": "ipython3",
   "version": "3.4.3"
  }
 },
 "nbformat": 4,
 "nbformat_minor": 0
}
