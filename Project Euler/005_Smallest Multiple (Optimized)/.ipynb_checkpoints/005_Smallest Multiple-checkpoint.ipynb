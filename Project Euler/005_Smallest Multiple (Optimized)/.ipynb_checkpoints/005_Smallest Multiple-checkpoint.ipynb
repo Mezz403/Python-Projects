{
 "cells": [
  {
   "cell_type": "markdown",
   "metadata": {},
   "source": [
    "#Smallest Multiple\n",
    "\n",
    "2520 is the smallest number that can be divided by each of the numbers from 1 to 10 without any remainder.\n",
    "\n",
    "What is the smallest positive number that is evenly divisible by all of the numbers from 1 to 20?"
   ]
  },
  {
   "cell_type": "code",
   "execution_count": 2,
   "metadata": {
    "collapsed": true
   },
   "outputs": [],
   "source": [
    "from itertools import groupby"
   ]
  },
  {
   "cell_type": "code",
   "execution_count": 3,
   "metadata": {
    "collapsed": true
   },
   "outputs": [],
   "source": [
    "def prime_factors(n):\n",
    "    factors = []\n",
    "    d = 2\n",
    "    \n",
    "    while n > 1:\n",
    "        answer = n % d\n",
    "        \n",
    "        while n % d == 0:\n",
    "            factors.append(d)\n",
    "            n /= d\n",
    "        \n",
    "        d += 1\n",
    "        \n",
    "    factors.sort()\n",
    "    frequency = [len(list(group)) for key, group in groupby(factors)]\n",
    "    factors = set(factors)\n",
    "    \n",
    "    result = {}\n",
    "    i = 0\n",
    "    \n",
    "    for factor in factors:\n",
    "        result[factor] = frequency[i]\n",
    "        i += 1\n",
    "    \n",
    "    return result"
   ]
  },
  {
   "cell_type": "code",
   "execution_count": 4,
   "metadata": {
    "collapsed": false
   },
   "outputs": [],
   "source": [
    "def project_euler5(limit):\n",
    "    factors = []\n",
    "    a = {}\n",
    "    \n",
    "    for i in range(2, limit + 1):\n",
    "        factor = prime_factors(i)\n",
    "        \n",
    "        for k,v in factor.items():\n",
    "                \n",
    "            if (k in a) and (v > a[k]):\n",
    "                a[k] = v\n",
    "            elif k not in a:\n",
    "                a.update({k:v})\n",
    "\n",
    "    product = 1\n",
    "    \n",
    "    for k,v in a.items():\n",
    "        product *= k**v\n",
    "        \n",
    "    return product"
   ]
  },
  {
   "cell_type": "code",
   "execution_count": 5,
   "metadata": {
    "collapsed": false,
    "scrolled": true
   },
   "outputs": [
    {
     "data": {
      "text/plain": [
       "232792560"
      ]
     },
     "execution_count": 5,
     "metadata": {},
     "output_type": "execute_result"
    }
   ],
   "source": [
    "project_euler5(20)"
   ]
  },
  {
   "cell_type": "code",
   "execution_count": 6,
   "metadata": {
    "collapsed": false
   },
   "outputs": [
    {
     "name": "stdout",
     "output_type": "stream",
     "text": [
      "10000 loops, best of 3: 166 µs per loop\n"
     ]
    }
   ],
   "source": [
    "%timeit project_euler5(20)"
   ]
  },
  {
   "cell_type": "code",
   "execution_count": null,
   "metadata": {
    "collapsed": true
   },
   "outputs": [],
   "source": []
  }
 ],
 "metadata": {
  "kernelspec": {
   "display_name": "Python 3",
   "language": "python",
   "name": "python3"
  },
  "language_info": {
   "codemirror_mode": {
    "name": "ipython",
    "version": 3
   },
   "file_extension": ".py",
   "mimetype": "text/x-python",
   "name": "python",
   "nbconvert_exporter": "python",
   "pygments_lexer": "ipython3",
   "version": "3.4.3"
  }
 },
 "nbformat": 4,
 "nbformat_minor": 0
}
