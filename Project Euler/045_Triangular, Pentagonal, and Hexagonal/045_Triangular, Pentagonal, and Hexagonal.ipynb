{
 "cells": [
  {
   "cell_type": "code",
   "execution_count": 6,
   "metadata": {
    "collapsed": true
   },
   "outputs": [],
   "source": [
    "def triangular(n):\n",
    "    return int(n * (n + 1) / 2)"
   ]
  },
  {
   "cell_type": "code",
   "execution_count": 13,
   "metadata": {
    "collapsed": false
   },
   "outputs": [],
   "source": [
    "def is_pentagonal(n):\n",
    "    pn = 0\n",
    "    i = 1\n",
    "    \n",
    "    while pn < n:\n",
    "        pn = int(i * (3 * i - 1) / 2)\n",
    "        i += 1\n",
    "        \n",
    "        if pn == n:\n",
    "            return True\n",
    "    \n",
    "    return False"
   ]
  },
  {
   "cell_type": "code",
   "execution_count": 19,
   "metadata": {
    "collapsed": true
   },
   "outputs": [],
   "source": [
    "def is_hexagonal(n):\n",
    "    hn = 0\n",
    "    i = 1\n",
    "    \n",
    "    while hn < n:\n",
    "        hn = int(i * (2 * i - 1))\n",
    "        i += 1\n",
    "        \n",
    "        if hn == n:\n",
    "            return True\n",
    "    \n",
    "    return False"
   ]
  },
  {
   "cell_type": "code",
   "execution_count": 28,
   "metadata": {
    "collapsed": true
   },
   "outputs": [],
   "source": [
    "def project_euler45():\n",
    "    t = 286\n",
    "    while True:\n",
    "        triangle = triangular(t)\n",
    "        if is_pentagonal(triangle) and is_hexagonal(triangle):\n",
    "            return triangle\n",
    "        else:\n",
    "            t += 1"
   ]
  },
  {
   "cell_type": "code",
   "execution_count": 29,
   "metadata": {
    "collapsed": false
   },
   "outputs": [
    {
     "data": {
      "text/plain": [
       "1533776805"
      ]
     },
     "execution_count": 29,
     "metadata": {},
     "output_type": "execute_result"
    }
   ],
   "source": [
    "project_euler45()"
   ]
  },
  {
   "cell_type": "code",
   "execution_count": null,
   "metadata": {
    "collapsed": true
   },
   "outputs": [],
   "source": []
  }
 ],
 "metadata": {
  "kernelspec": {
   "display_name": "Python 3",
   "language": "python",
   "name": "python3"
  },
  "language_info": {
   "codemirror_mode": {
    "name": "ipython",
    "version": 3
   },
   "file_extension": ".py",
   "mimetype": "text/x-python",
   "name": "python",
   "nbconvert_exporter": "python",
   "pygments_lexer": "ipython3",
   "version": "3.4.3"
  }
 },
 "nbformat": 4,
 "nbformat_minor": 0
}
