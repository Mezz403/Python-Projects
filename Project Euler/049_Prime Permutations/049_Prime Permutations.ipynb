{
 "cells": [
  {
   "cell_type": "code",
   "execution_count": 89,
   "metadata": {
    "collapsed": true
   },
   "outputs": [],
   "source": [
    "from math import sqrt\n",
    "from itertools import permutations"
   ]
  },
  {
   "cell_type": "code",
   "execution_count": 90,
   "metadata": {
    "collapsed": true
   },
   "outputs": [],
   "source": [
    "def primes_below_n(n):\n",
    "    sqrt_n = int(sqrt(n))\n",
    "    \n",
    "    #Based on sieve of Eratosthenes\n",
    "    no_primes = set({j for i in range(2, sqrt_n+1) for j in range(i*2, n, i)})\n",
    "    \n",
    "    primes = set({i for i in range(2,n) if i not in no_primes})\n",
    "    \n",
    "    return primes"
   ]
  },
  {
   "cell_type": "code",
   "execution_count": 91,
   "metadata": {
    "collapsed": true
   },
   "outputs": [],
   "source": [
    "def is_permutation(i, j):\n",
    "    digits = list(map(int, str(i)))\n",
    "    test = [int(x) for x in str(j)]\n",
    "    perms = list(permutations(digits))\n",
    "    \n",
    "    for perm in perms:\n",
    "        if test == list(perm):\n",
    "            return True\n",
    "    \n",
    "    return False"
   ]
  },
  {
   "cell_type": "code",
   "execution_count": 120,
   "metadata": {
    "collapsed": false
   },
   "outputs": [],
   "source": [
    "def project_euler49(lower, upper):\n",
    "    primes = primes_below_n(upper)\n",
    "    primes = list(filter(lambda a: a > lower, primes))\n",
    "    primes.sort()\n",
    "    \n",
    "    for i in range(0,len(primes) - 1):\n",
    "        a = primes[i]\n",
    "        \n",
    "        for j in range(i + 1, len(primes) - 1):\n",
    "            b = primes[j]\n",
    "            c = b + (b - a)\n",
    "            \n",
    "            if (c > upper) or (not c in primes):\n",
    "                next\n",
    "            elif is_permutation(a, b) and is_permutation(a, c):\n",
    "                num = str(a) + str(b) + str(c)\n",
    "            else:\n",
    "                next\n",
    "\n",
    "    return num"
   ]
  },
  {
   "cell_type": "code",
   "execution_count": 121,
   "metadata": {
    "collapsed": false
   },
   "outputs": [
    {
     "data": {
      "text/plain": [
       "'296962999629'"
      ]
     },
     "execution_count": 121,
     "metadata": {},
     "output_type": "execute_result"
    }
   ],
   "source": [
    "project_euler49(1000, 10000)"
   ]
  },
  {
   "cell_type": "code",
   "execution_count": null,
   "metadata": {
    "collapsed": true
   },
   "outputs": [],
   "source": []
  }
 ],
 "metadata": {
  "kernelspec": {
   "display_name": "Python 3",
   "language": "python",
   "name": "python3"
  },
  "language_info": {
   "codemirror_mode": {
    "name": "ipython",
    "version": 3
   },
   "file_extension": ".py",
   "mimetype": "text/x-python",
   "name": "python",
   "nbconvert_exporter": "python",
   "pygments_lexer": "ipython3",
   "version": "3.4.3"
  }
 },
 "nbformat": 4,
 "nbformat_minor": 0
}
