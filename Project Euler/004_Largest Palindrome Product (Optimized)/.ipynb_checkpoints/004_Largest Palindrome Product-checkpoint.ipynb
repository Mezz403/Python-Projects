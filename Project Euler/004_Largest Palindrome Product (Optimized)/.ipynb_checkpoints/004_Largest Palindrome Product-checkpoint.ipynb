{
 "cells": [
  {
   "cell_type": "markdown",
   "metadata": {
    "collapsed": true
   },
   "source": [
    "#Largest Palindrome Product\n",
    "\n",
    "A palindromic number reads the same both ways. The largest palindrome made from the product of two 2-digit numbers is 9009 = 91 x 99.\n",
    "\n",
    "Find the largest palindrome made from the product of two 3-digit numbers."
   ]
  },
  {
   "cell_type": "code",
   "execution_count": 7,
   "metadata": {
    "collapsed": false
   },
   "outputs": [],
   "source": [
    "def project_euler4(limit):\n",
    "    product = 0\n",
    "    palindromes = []\n",
    "\n",
    "    for a in range(10**(limit - 1), 10**limit):\n",
    "        for b in range(10**(limit - 1), 10**limit):\n",
    "            product = a * b\n",
    "            reverse = int(str(product)[::-1])\n",
    "            \n",
    "            if reverse == product:\n",
    "                palindromes.append(product)\n",
    "    \n",
    "    return max(palindromes)"
   ]
  },
  {
   "cell_type": "code",
   "execution_count": 9,
   "metadata": {
    "collapsed": false
   },
   "outputs": [
    {
     "name": "stdout",
     "output_type": "stream",
     "text": [
      "906609\n",
      "1 loops, best of 3: 722 ms per loop\n"
     ]
    }
   ],
   "source": [
    "print(project_euler4(3))\n",
    "%timeit project_euler4(3)"
   ]
  },
  {
   "cell_type": "code",
   "execution_count": null,
   "metadata": {
    "collapsed": true
   },
   "outputs": [],
   "source": []
  }
 ],
 "metadata": {
  "kernelspec": {
   "display_name": "Python 3",
   "language": "python",
   "name": "python3"
  },
  "language_info": {
   "codemirror_mode": {
    "name": "ipython",
    "version": 3
   },
   "file_extension": ".py",
   "mimetype": "text/x-python",
   "name": "python",
   "nbconvert_exporter": "python",
   "pygments_lexer": "ipython3",
   "version": "3.4.3"
  }
 },
 "nbformat": 4,
 "nbformat_minor": 0
}
