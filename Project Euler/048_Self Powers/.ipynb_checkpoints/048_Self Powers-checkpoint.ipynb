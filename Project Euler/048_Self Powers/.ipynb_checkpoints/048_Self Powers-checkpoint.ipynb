{
 "cells": [
  {
   "cell_type": "code",
   "execution_count": 4,
   "metadata": {
    "collapsed": true
   },
   "outputs": [],
   "source": [
    "def self_powers(n):\n",
    "    return n**n"
   ]
  },
  {
   "cell_type": "code",
   "execution_count": 18,
   "metadata": {
    "collapsed": true
   },
   "outputs": [],
   "source": [
    "def project_euler48(limit):\n",
    "    digits = []\n",
    "    sum = 0\n",
    "    powers_sum = []\n",
    "    \n",
    "    for i in range(1, limit + 1):\n",
    "        num = self_powers(i)\n",
    "        sum += num\n",
    "        \n",
    "    digits = list(map(int,str(sum)))\n",
    "    for j in digits:\n",
    "        powers_sum.append(j)\n",
    "    \n",
    "    print(powers_sum[len(powers_sum)-10])\n",
    "    print(powers_sum[len(powers_sum)-9])\n",
    "    print(powers_sum[len(powers_sum)-8])\n",
    "    print(powers_sum[len(powers_sum)-7])\n",
    "    print(powers_sum[len(powers_sum)-6])\n",
    "    print(powers_sum[len(powers_sum)-5])\n",
    "    print(powers_sum[len(powers_sum)-4])\n",
    "    print(powers_sum[len(powers_sum)-3])\n",
    "    print(powers_sum[len(powers_sum)-2])\n",
    "    print(powers_sum[len(powers_sum)-1])\n",
    "    \n",
    "    return"
   ]
  },
  {
   "cell_type": "code",
   "execution_count": 20,
   "metadata": {
    "collapsed": false
   },
   "outputs": [
    {
     "name": "stdout",
     "output_type": "stream",
     "text": [
      "9\n",
      "1\n",
      "1\n",
      "0\n",
      "8\n",
      "4\n",
      "6\n",
      "7\n",
      "0\n",
      "0\n"
     ]
    }
   ],
   "source": [
    "project_euler48(1000)"
   ]
  },
  {
   "cell_type": "code",
   "execution_count": null,
   "metadata": {
    "collapsed": true
   },
   "outputs": [],
   "source": []
  }
 ],
 "metadata": {
  "kernelspec": {
   "display_name": "Python 3",
   "language": "python",
   "name": "python3"
  },
  "language_info": {
   "codemirror_mode": {
    "name": "ipython",
    "version": 3
   },
   "file_extension": ".py",
   "mimetype": "text/x-python",
   "name": "python",
   "nbconvert_exporter": "python",
   "pygments_lexer": "ipython3",
   "version": "3.4.3"
  }
 },
 "nbformat": 4,
 "nbformat_minor": 0
}
