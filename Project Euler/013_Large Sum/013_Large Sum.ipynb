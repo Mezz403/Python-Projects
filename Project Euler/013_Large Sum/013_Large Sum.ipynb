{
 "cells": [
  {
   "cell_type": "code",
   "execution_count": 15,
   "metadata": {
    "collapsed": false
   },
   "outputs": [],
   "source": [
    "import csv\n",
    "from functools import reduce\n",
    "\n",
    "def large_sum(csvFile):\n",
    "    reader = csv.reader(open(csvFile))\n",
    "    numbers = []\n",
    "    sum_array = []\n",
    "    sum_numbers = 0\n",
    "    for i in reader:\n",
    "        numbers.append(int(i[0]))\n",
    "\n",
    "    length = len(numbers)\n",
    "    \n",
    "    for i in range(0,length):\n",
    "        sum_numbers += numbers[i]\n",
    "    \n",
    "    return sum_numbers\n",
    "    "
   ]
  },
  {
   "cell_type": "code",
   "execution_count": 16,
   "metadata": {
    "collapsed": false
   },
   "outputs": [
    {
     "data": {
      "text/plain": [
       "5537376230390876637302048746832985971773659831892672"
      ]
     },
     "execution_count": 16,
     "metadata": {},
     "output_type": "execute_result"
    }
   ],
   "source": [
    "large_sum('013_Numbers.csv')"
   ]
  },
  {
   "cell_type": "code",
   "execution_count": null,
   "metadata": {
    "collapsed": true
   },
   "outputs": [],
   "source": []
  }
 ],
 "metadata": {
  "kernelspec": {
   "display_name": "Python 3",
   "language": "python",
   "name": "python3"
  },
  "language_info": {
   "codemirror_mode": {
    "name": "ipython",
    "version": 3
   },
   "file_extension": ".py",
   "mimetype": "text/x-python",
   "name": "python",
   "nbconvert_exporter": "python",
   "pygments_lexer": "ipython3",
   "version": "3.4.3"
  }
 },
 "nbformat": 4,
 "nbformat_minor": 0
}
