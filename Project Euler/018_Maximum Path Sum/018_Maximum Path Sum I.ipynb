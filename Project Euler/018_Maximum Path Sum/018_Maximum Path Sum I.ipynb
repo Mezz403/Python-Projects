{
 "cells": [
  {
   "cell_type": "code",
   "execution_count": 70,
   "metadata": {
    "collapsed": false
   },
   "outputs": [],
   "source": [
    "def max_path_sum2(File):\n",
    "    reader = open(File,\"r\")\n",
    "    triangle = []\n",
    "    \n",
    "    for line in reader:\n",
    "        row = [int(i) for i in line.split(\" \")]\n",
    "        triangle.append(row)\n",
    "        \n",
    "    for i in range(len(triangle)-2,-1,-1):\n",
    "        for j in range(i+1):\n",
    "            triangle[i][j] +=  max([triangle[i+1][j],triangle[i+1][j+1]])\n",
    "    \n",
    "    return triangle"
   ]
  },
  {
   "cell_type": "code",
   "execution_count": 99,
   "metadata": {
    "collapsed": false
   },
   "outputs": [
    {
     "data": {
      "text/plain": [
       "[[1074],\n",
       " [995, 999],\n",
       " [818, 900, 935],\n",
       " [704, 801, 853, 792],\n",
       " [686, 640, 766, 731, 782],\n",
       " [666, 614, 636, 684, 660, 717],\n",
       " [647, 501, 613, 609, 533, 657, 683],\n",
       " [559, 499, 479, 536, 514, 526, 594, 616],\n",
       " [460, 434, 419, 475, 508, 470, 510, 524, 487],\n",
       " [419, 365, 393, 387, 419, 425, 430, 376, 454, 322],\n",
       " [378, 317, 231, 321, 354, 372, 393, 354, 360, 293, 247],\n",
       " [325, 246, 187, 178, 256, 329, 273, 302, 263, 242, 193, 233],\n",
       " [255, 235, 154, 150, 140, 179, 256, 209, 224, 172, 174, 176, 148],\n",
       " [125, 164, 102, 95, 112, 123, 165, 128, 166, 109, 122, 147, 100, 54],\n",
       " [4, 62, 98, 27, 23, 9, 70, 98, 73, 93, 38, 53, 60, 4, 23]]"
      ]
     },
     "execution_count": 99,
     "metadata": {},
     "output_type": "execute_result"
    }
   ],
   "source": [
    "max_path_sum2('018_Triangle.txt')"
   ]
  },
  {
   "cell_type": "code",
   "execution_count": 139,
   "metadata": {
    "collapsed": false
   },
   "outputs": [],
   "source": [
    "def max_path_sum(File):\n",
    "    reader = open(File,\"r\")\n",
    "    triangle = []\n",
    "    max_path = []\n",
    "    max_sum = 0\n",
    "    \n",
    "    for line in reader:\n",
    "        row = [int(i) for i in line.split(\" \")]\n",
    "        triangle.append(row)\n",
    "    \n",
    "    max_sum = triangle[0][0]\n",
    "    max_path.append(triangle[0][0])\n",
    "    j = 0\n",
    "    \n",
    "    for i in range(0,len(triangle)-1,1):\n",
    "        max_sum += max(triangle[i+1][j],triangle[i+1][j+1])\n",
    "        max_path.append(max(triangle[i+1][j],triangle[i+1][j+1]))\n",
    "        \n",
    "        if max(triangle[i+1][j],triangle[i+1][j+1]) == triangle[i+1][j+1]:\n",
    "            j += 1\n",
    "                                   \n",
    "    return max_sum,max_path"
   ]
  },
  {
   "cell_type": "code",
   "execution_count": 140,
   "metadata": {
    "collapsed": false,
    "scrolled": false
   },
   "outputs": [
    {
     "data": {
      "text/plain": [
       "(23, [3, 7, 4, 9])"
      ]
     },
     "execution_count": 140,
     "metadata": {},
     "output_type": "execute_result"
    }
   ],
   "source": [
    "max_path_sum('018_Triangle.txt')"
   ]
  },
  {
   "cell_type": "code",
   "execution_count": null,
   "metadata": {
    "collapsed": true
   },
   "outputs": [],
   "source": []
  }
 ],
 "metadata": {
  "kernelspec": {
   "display_name": "Python 3",
   "language": "python",
   "name": "python3"
  },
  "language_info": {
   "codemirror_mode": {
    "name": "ipython",
    "version": 3
   },
   "file_extension": ".py",
   "mimetype": "text/x-python",
   "name": "python",
   "nbconvert_exporter": "python",
   "pygments_lexer": "ipython3",
   "version": "3.4.3"
  }
 },
 "nbformat": 4,
 "nbformat_minor": 0
}
