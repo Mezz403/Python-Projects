{
 "cells": [
  {
   "cell_type": "markdown",
   "metadata": {},
   "source": [
    "#Special Pythagorean Triplet\n",
    "\n",
    "A Pythagorean triplet is a set of three natural numbers, a < b < c, for which,\n",
    "\n",
    "a^2 + b^2 = c^2\n",
    "\n",
    "For example, 3^2 + 4^2 = 9 + 16 = 25 = 5^2.\n",
    "\n",
    "There exists exactly one Pythagorean triplet for which a + b + c = 1000. Find the product abc."
   ]
  },
  {
   "cell_type": "code",
   "execution_count": 81,
   "metadata": {
    "collapsed": false
   },
   "outputs": [],
   "source": [
    "def project_euler9(p):\n",
    "    m = 2\n",
    "    \n",
    "    a = 0\n",
    "    b = 0\n",
    "    c = 0\n",
    "    \n",
    "    while True:\n",
    "        n = 1\n",
    "        \n",
    "        while m > n:\n",
    "            if (m - n) % 2 == 1:\n",
    "                a = m**2 - n**2\n",
    "                b = 2 * m * n\n",
    "                c = m**2 + n**2\n",
    "                \n",
    "                if (a + b + c) == p:\n",
    "                    return a, b, c, a * b * c\n",
    "                else:\n",
    "                    k = 1\n",
    "                    \n",
    "                    while k * a < p:\n",
    "                        if k * (a + b + c) == p:\n",
    "                            return k * a, k * b, k * c, k * (a + b + c)\n",
    "                        else:\n",
    "                            k += 1\n",
    "\n",
    "            n += 1\n",
    "        \n",
    "        m += 1\n",
    "    \n",
    "    return "
   ]
  },
  {
   "cell_type": "code",
   "execution_count": 82,
   "metadata": {
    "collapsed": false
   },
   "outputs": [
    {
     "data": {
      "text/plain": [
       "(375, 200, 425, 1000)"
      ]
     },
     "execution_count": 82,
     "metadata": {},
     "output_type": "execute_result"
    }
   ],
   "source": [
    "project_euler9(1000)"
   ]
  },
  {
   "cell_type": "code",
   "execution_count": 83,
   "metadata": {
    "collapsed": false
   },
   "outputs": [
    {
     "name": "stdout",
     "output_type": "stream",
     "text": [
      "10000 loops, best of 3: 144 µs per loop\n"
     ]
    }
   ],
   "source": [
    "%timeit project_euler9(1000)"
   ]
  },
  {
   "cell_type": "code",
   "execution_count": null,
   "metadata": {
    "collapsed": true
   },
   "outputs": [],
   "source": []
  }
 ],
 "metadata": {
  "kernelspec": {
   "display_name": "Python 3",
   "language": "python",
   "name": "python3"
  },
  "language_info": {
   "codemirror_mode": {
    "name": "ipython",
    "version": 3
   },
   "file_extension": ".py",
   "mimetype": "text/x-python",
   "name": "python",
   "nbconvert_exporter": "python",
   "pygments_lexer": "ipython3",
   "version": "3.4.3"
  }
 },
 "nbformat": 4,
 "nbformat_minor": 0
}
