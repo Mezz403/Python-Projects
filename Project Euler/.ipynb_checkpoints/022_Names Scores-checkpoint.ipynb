{
 "cells": [
  {
   "cell_type": "code",
   "execution_count": 75,
   "metadata": {
    "collapsed": false
   },
   "outputs": [],
   "source": [
    "import string\n",
    "from collections import OrderedDict\n",
    "\n",
    "def Names_Scores():\n",
    "    file = open(\"C:\\\\Users\\\\Owner\\\\Desktop\\\\p022_names.txt\")\n",
    "    names = file.read().split(',')\n",
    "    \n",
    "    for i in range(0,len(names)):\n",
    "        names[i] = names[i].replace('\\\"','')\n",
    "    \n",
    "    names.sort()\n",
    "\n",
    "    alpha_dict = OrderedDict(zip(string.ascii_uppercase, range(1,27)))\n",
    "    position = 1\n",
    "    total_sum = 0\n",
    "    \n",
    "    for name in names:\n",
    "        char_array = list(name)\n",
    "        sum_name = 0\n",
    "        \n",
    "        for char in char_array:\n",
    "            sum_name += alpha_dict[char]\n",
    "            \n",
    "        total_sum = total_sum + sum_name * position\n",
    "        \n",
    "        position += 1\n",
    "    \n",
    "    file.close()\n",
    "    \n",
    "    return total_sum"
   ]
  },
  {
   "cell_type": "code",
   "execution_count": 76,
   "metadata": {
    "collapsed": false
   },
   "outputs": [
    {
     "data": {
      "text/plain": [
       "871198282"
      ]
     },
     "execution_count": 76,
     "metadata": {},
     "output_type": "execute_result"
    }
   ],
   "source": [
    "Names_Scores()"
   ]
  }
 ],
 "metadata": {
  "kernelspec": {
   "display_name": "Python 3",
   "language": "python",
   "name": "python3"
  },
  "language_info": {
   "codemirror_mode": {
    "name": "ipython",
    "version": 3
   },
   "file_extension": ".py",
   "mimetype": "text/x-python",
   "name": "python",
   "nbconvert_exporter": "python",
   "pygments_lexer": "ipython3",
   "version": "3.4.3"
  }
 },
 "nbformat": 4,
 "nbformat_minor": 0
}
