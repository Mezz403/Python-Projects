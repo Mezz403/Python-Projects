{
 "cells": [
  {
   "cell_type": "markdown",
   "metadata": {},
   "source": [
    "#A Pythagorean triplet is a set of three natural numbers, a < b < c, for which,\n",
    "\n",
    "#a^2 + b^2 = c^2\n",
    "\n",
    "#For example, 3^2 + 4^2 = 9 + 16 = 25 = 5^2\n",
    "\n",
    "#There exists exactly one Pythagorean triplet for which a + b + c = 1000.\n",
    "\n",
    "#Find the product abc."
   ]
  },
  {
   "cell_type": "code",
   "execution_count": 8,
   "metadata": {
    "collapsed": true
   },
   "outputs": [],
   "source": [
    "def generate_odd(n):\n",
    "    odd = 0\n",
    "    \n",
    "    for i in range (1, 2*n+1):\n",
    "        if (i + 1) % 2 == 0:\n",
    "            odd = i\n",
    "    return odd"
   ]
  },
  {
   "cell_type": "code",
   "execution_count": 9,
   "metadata": {
    "collapsed": false
   },
   "outputs": [],
   "source": [
    "def generate_a2(n):\n",
    "    a = 0\n",
    "    a2 = 0\n",
    "\n",
    "    for i in range(1, n + 1):\n",
    "        a = generate_odd(i)\n",
    "        a2 = a**2\n",
    "\n",
    "    return a2"
   ]
  },
  {
   "cell_type": "code",
   "execution_count": 10,
   "metadata": {
    "collapsed": true
   },
   "outputs": [],
   "source": [
    "def generate_b2(n):\n",
    "    b2 = 0\n",
    "    \n",
    "    for i in range(1, n):\n",
    "        b2 += generate_odd(i)\n",
    "    \n",
    "    return b2"
   ]
  },
  {
   "cell_type": "code",
   "execution_count": 11,
   "metadata": {
    "collapsed": true
   },
   "outputs": [],
   "source": [
    "def generate_c2(n):\n",
    "    c2 = 0\n",
    "    \n",
    "    for i in range(1, n + 1):\n",
    "        c2 += generate_odd(i)\n",
    "    \n",
    "    return c2"
   ]
  },
  {
   "cell_type": "code",
   "execution_count": 38,
   "metadata": {
    "collapsed": true
   },
   "outputs": [],
   "source": [
    "def generate_triplet(sumtriplet): \n",
    "    a = 0\n",
    "    b = 0\n",
    "    c = 0\n",
    "    \n",
    "    a2 = 0\n",
    "    b2 = 0\n",
    "    c2 = 0\n",
    "    \n",
    "    n = 2\n",
    "    i = 1\n",
    "    \n",
    "    product = 0\n",
    "    print(sumtriplet)\n",
    "    while True:\n",
    "        a2 = generate_a2(n)\n",
    "        b2 = generate_b2(int((generate_a2(n) + 1)/2))\n",
    "        c2 = generate_c2(int((generate_a2(n) + 1)/2))\n",
    "        \n",
    "        a = math.sqrt(a2)\n",
    "        b = math.sqrt(b2)\n",
    "        c = math.sqrt(c2)\n",
    "        \n",
    "        while i*(a + b + c) <= sumtriplet:\n",
    "            if i*(a + b + c) == sumtriplet:\n",
    "                product = i*(a * b * c)\n",
    "                a *= i\n",
    "                b *= i\n",
    "                c *= i\n",
    "                return a, b, c, product\n",
    "            i += 1\n",
    "        n += 1\n",
    "        i = 1"
   ]
  },
  {
   "cell_type": "code",
   "execution_count": 43,
   "metadata": {
    "collapsed": false,
    "scrolled": false
   },
   "outputs": [
    {
     "name": "stdout",
     "output_type": "stream",
     "text": [
      "462\n"
     ]
    },
    {
     "data": {
      "text/plain": [
       "(21.0, 220.0, 221.0, 1021020.0)"
      ]
     },
     "execution_count": 43,
     "metadata": {},
     "output_type": "execute_result"
    }
   ],
   "source": [
    "import math\n",
    "\n",
    "generate_triplet(1000)"
   ]
  },
  {
   "cell_type": "code",
   "execution_count": null,
   "metadata": {
    "collapsed": true
   },
   "outputs": [],
   "source": []
  }
 ],
 "metadata": {
  "kernelspec": {
   "display_name": "Python 3",
   "language": "python",
   "name": "python3"
  },
  "language_info": {
   "codemirror_mode": {
    "name": "ipython",
    "version": 3
   },
   "file_extension": ".py",
   "mimetype": "text/x-python",
   "name": "python",
   "nbconvert_exporter": "python",
   "pygments_lexer": "ipython3",
   "version": "3.4.3"
  }
 },
 "nbformat": 4,
 "nbformat_minor": 0
}
