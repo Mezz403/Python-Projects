{
 "cells": [
  {
   "cell_type": "code",
   "execution_count": 61,
   "metadata": {
    "collapsed": false
   },
   "outputs": [
    {
     "ename": "SyntaxError",
     "evalue": "invalid syntax (<ipython-input-61-d0730b9bd92c>, line 33)",
     "output_type": "error",
     "traceback": [
      "\u001b[1;36m  File \u001b[1;32m\"<ipython-input-61-d0730b9bd92c>\"\u001b[1;36m, line \u001b[1;32m33\u001b[0m\n\u001b[1;33m    if (iscenturyleapyear(i) or (isleapyear(i) and i%100 != 0))\u001b[0m\n\u001b[1;37m                                                               ^\u001b[0m\n\u001b[1;31mSyntaxError\u001b[0m\u001b[1;31m:\u001b[0m invalid syntax\n"
     ]
    }
   ],
   "source": [
    "import datetime\n",
    "\n",
    "thirty = [4, # April\n",
    "          6, # June\n",
    "          9, # September\n",
    "          11 # November\n",
    "          ]\n",
    "\n",
    "iscenturyleapyear = lambda x:True if x % 400 == 0 else False\n",
    "isleapyear = lambda x:True if x % 4 == 0 else False\n",
    "\n",
    "def dates(lower,upper):\n",
    "    lower = [i for i in lower]\n",
    "    upper = [i for i in upper]\n",
    "    a = 0\n",
    "    b = 0\n",
    "    \n",
    "    dates = []\n",
    "    \n",
    "    # year loop\n",
    "    for i in range(lower[0],upper[0]+1):\n",
    "        \n",
    "        # month loop\n",
    "        for j in range(lower[1],upper[1]+1):\n",
    "            \n",
    "            # day cases\n",
    "            # start array at the origin date and fill month in accordingly\n",
    "            if (i == lower[0] and j == lower[1]) is True:\n",
    "                a = lower[2]\n",
    "                \n",
    "                # leap year cases\n",
    "                if j == 2:\n",
    "                    if (iscenturyleapyear(i) or (isleapyear(i) and i%100 != 0))\n",
    "                    is True:\n",
    "                        b = 30\n",
    "                    else:\n",
    "                        b = 29\n",
    "                \n",
    "                # months with 30 days\n",
    "                elif j in thirty:\n",
    "                    b = 31\n",
    "                \n",
    "                # months with 31 days\n",
    "                else:\n",
    "                    b = 32\n",
    "            \n",
    "            # start array at the beginning of month and stop at the end date\n",
    "            elif (i == upper[0] and j == upper[1]) is True:\n",
    "                a = 1\n",
    "                b = upper[2]\n",
    "                \n",
    "            else:\n",
    "                a = 1\n",
    "                \n",
    "                # leap year cases\n",
    "                if j == 2:\n",
    "                    if (iscenturyleapyear(i) or isleapyear(i) and i%100 != 0) is True:\n",
    "                        b = 30\n",
    "                    else:\n",
    "                        b = 29\n",
    "                        \n",
    "                # months with 30 days\n",
    "                elif j in thirty:\n",
    "                    b = 31\n",
    "                \n",
    "                # months with 31 days\n",
    "                else:\n",
    "                    b = 32\n",
    "\n",
    "            for k in range(a,b,1):\n",
    "                dates.append([i,j,k])                  \n",
    "    \n",
    "    return dates\n",
    "    \n",
    "def day_of_week(date):\n",
    "    \n",
    "    return datetime.date(date[0],date[1],date[2]).weekday()\n",
    "\n",
    "def count_sundays(upper,lower):\n",
    "    sundays = 0\n",
    "    \n",
    "    daterange = dates(upper,lower)\n",
    "    \n",
    "    for i in daterange:\n",
    "        if day_of_week(i) == 6:\n",
    "            sundays += 1\n",
    "    \n",
    "    return sundays"
   ]
  },
  {
   "cell_type": "code",
   "execution_count": 54,
   "metadata": {
    "collapsed": false
   },
   "outputs": [
    {
     "data": {
      "text/plain": [
       "5"
      ]
     },
     "execution_count": 54,
     "metadata": {},
     "output_type": "execute_result"
    }
   ],
   "source": [
    "day_of_week([2000,1,1])"
   ]
  },
  {
   "cell_type": "code",
   "execution_count": null,
   "metadata": {
    "collapsed": true
   },
   "outputs": [],
   "source": []
  },
  {
   "cell_type": "code",
   "execution_count": null,
   "metadata": {
    "collapsed": true
   },
   "outputs": [],
   "source": []
  }
 ],
 "metadata": {
  "kernelspec": {
   "display_name": "Python 3",
   "language": "python",
   "name": "python3"
  },
  "language_info": {
   "codemirror_mode": {
    "name": "ipython",
    "version": 3
   },
   "file_extension": ".py",
   "mimetype": "text/x-python",
   "name": "python",
   "nbconvert_exporter": "python",
   "pygments_lexer": "ipython3",
   "version": "3.4.3"
  }
 },
 "nbformat": 4,
 "nbformat_minor": 0
}
