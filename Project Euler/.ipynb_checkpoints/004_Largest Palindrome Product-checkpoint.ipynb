{
 "cells": [
  {
   "cell_type": "markdown",
   "metadata": {
    "collapsed": true
   },
   "source": [
    "#A palindromic number reads the same both ways. The largest palindrome made from the product of two 2-digit numbers is 9009 = 91 x 99.\n",
    "\n",
    "#Find the largest palindrome made from the product of two 3-digit numbers."
   ]
  },
  {
   "cell_type": "code",
   "execution_count": 65,
   "metadata": {
    "collapsed": true
   },
   "outputs": [],
   "source": [
    "def reverse(num):\n",
    "    rev = 0\n",
    "    while num > 0:\n",
    "        rev = (10 * rev) + num % 10\n",
    "        num //= 10\n",
    "    return rev"
   ]
  },
  {
   "cell_type": "code",
   "execution_count": 71,
   "metadata": {
    "collapsed": false
   },
   "outputs": [],
   "source": [
    "def palindromes(limit):\n",
    "    operand1 = 1\n",
    "    product = 0\n",
    "    reversed_product = 0\n",
    "    palindromes = []\n",
    "\n",
    "    while operand1 < (10**limit):\n",
    "        operand2 = 1\n",
    "        while operand2 < (10**limit):\n",
    "            product = operand1 * operand2\n",
    "            reversed_product = reverse(product)\n",
    "            if product == reversed_product:\n",
    "                palindromes.append(product)\n",
    "            operand2 += 1\n",
    "        operand1 += 1\n",
    "    return palindromes"
   ]
  },
  {
   "cell_type": "code",
   "execution_count": 74,
   "metadata": {
    "collapsed": false
   },
   "outputs": [
    {
     "name": "stdout",
     "output_type": "stream",
     "text": [
      "Largest palindrome: 906609\n"
     ]
    }
   ],
   "source": [
    "largest_palindrome = max(palindromes(3))\n",
    "print(\"Largest palindrome: %d\" % largest_palindrome)"
   ]
  },
  {
   "cell_type": "code",
   "execution_count": 76,
   "metadata": {
    "collapsed": false
   },
   "outputs": [
    {
     "name": "stdout",
     "output_type": "stream",
     "text": [
      "1 loops, best of 3: 2.45 s per loop\n"
     ]
    }
   ],
   "source": [
    "import time\n",
    "\n",
    "%timeit[palindromes(3)]"
   ]
  },
  {
   "cell_type": "code",
   "execution_count": null,
   "metadata": {
    "collapsed": true
   },
   "outputs": [],
   "source": []
  }
 ],
 "metadata": {
  "kernelspec": {
   "display_name": "Python 3",
   "language": "python",
   "name": "python3"
  },
  "language_info": {
   "codemirror_mode": {
    "name": "ipython",
    "version": 3
   },
   "file_extension": ".py",
   "mimetype": "text/x-python",
   "name": "python",
   "nbconvert_exporter": "python",
   "pygments_lexer": "ipython3",
   "version": "3.4.3"
  }
 },
 "nbformat": 4,
 "nbformat_minor": 0
}
