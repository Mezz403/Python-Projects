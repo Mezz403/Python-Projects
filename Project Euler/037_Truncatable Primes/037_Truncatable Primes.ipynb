{
 "cells": [
  {
   "cell_type": "code",
   "execution_count": 1,
   "metadata": {
    "collapsed": true
   },
   "outputs": [],
   "source": [
    "from math import sqrt"
   ]
  },
  {
   "cell_type": "code",
   "execution_count": 2,
   "metadata": {
    "collapsed": false
   },
   "outputs": [],
   "source": [
    "def trunc_left(n):\n",
    "    trunc_numbers = set()\n",
    "    tmp_n = n\n",
    "    \n",
    "    for i in range(len(str(n))):\n",
    "        trunc_numbers.add(int(tmp_n))\n",
    "        tmp_n = str(tmp_n)[1:]\n",
    "    \n",
    "    return trunc_numbers"
   ]
  },
  {
   "cell_type": "code",
   "execution_count": 3,
   "metadata": {
    "collapsed": true
   },
   "outputs": [],
   "source": [
    "def trunc_right(n):\n",
    "    trunc_numbers = set()\n",
    "    tmp_n = n\n",
    "    \n",
    "    for i in range(len(str(n))):\n",
    "        trunc_numbers.add(int(tmp_n))\n",
    "        tmp_n = str(tmp_n)[:-1]\n",
    "\n",
    "    return trunc_numbers"
   ]
  },
  {
   "cell_type": "code",
   "execution_count": 4,
   "metadata": {
    "collapsed": true
   },
   "outputs": [],
   "source": [
    "def primes_below_n(n):\n",
    "    sqrt_n = int(sqrt(n))\n",
    "    \n",
    "    #Based on sieve of Eratosthenes\n",
    "    no_primes = set({j for i in range(2, sqrt_n+1) for j in range(i*2, n, i)})\n",
    "    \n",
    "    primes = set({i for i in range(2,n) if i not in no_primes})\n",
    "    \n",
    "    return primes"
   ]
  },
  {
   "cell_type": "code",
   "execution_count": 5,
   "metadata": {
    "collapsed": true
   },
   "outputs": [],
   "source": [
    "def project_euler37(limit):\n",
    "    primes = primes_below_n(limit)\n",
    "    trunc_primes = set()\n",
    "    \n",
    "    for i in primes:\n",
    "        left = trunc_left(i)\n",
    "        right = trunc_right(i)\n",
    "        \n",
    "        if left.issubset(primes) and right.issubset(primes):\n",
    "            trunc_primes.add(i)\n",
    "            \n",
    "    return sum(filter(lambda a: a > 10, trunc_primes))"
   ]
  },
  {
   "cell_type": "code",
   "execution_count": 6,
   "metadata": {
    "collapsed": false
   },
   "outputs": [
    {
     "data": {
      "text/plain": [
       "748317"
      ]
     },
     "execution_count": 6,
     "metadata": {},
     "output_type": "execute_result"
    }
   ],
   "source": [
    "project_euler37(1000000)"
   ]
  },
  {
   "cell_type": "code",
   "execution_count": null,
   "metadata": {
    "collapsed": true
   },
   "outputs": [],
   "source": []
  }
 ],
 "metadata": {
  "kernelspec": {
   "display_name": "Python 3",
   "language": "python",
   "name": "python3"
  },
  "language_info": {
   "codemirror_mode": {
    "name": "ipython",
    "version": 3
   },
   "file_extension": ".py",
   "mimetype": "text/x-python",
   "name": "python",
   "nbconvert_exporter": "python",
   "pygments_lexer": "ipython3",
   "version": "3.4.3"
  }
 },
 "nbformat": 4,
 "nbformat_minor": 0
}
