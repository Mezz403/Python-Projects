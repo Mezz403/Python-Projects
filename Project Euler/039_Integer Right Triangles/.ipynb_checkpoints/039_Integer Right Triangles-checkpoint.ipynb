{
 "cells": [
  {
   "cell_type": "code",
   "execution_count": 92,
   "metadata": {
    "collapsed": true
   },
   "outputs": [],
   "source": [
    "def relatively_prime_generator(n, a=1, b=1):\n",
    "    ### generates all relatively prime pairs <= n.  The larger number comes first.\n",
    "    yield (a,b)\n",
    "    k = 1\n",
    "    while a*k+b <= n:\n",
    "        for i in relatively_prime_generator(n, a*k+b, a):\n",
    "            yield i\n",
    "        k += 1"
   ]
  },
  {
   "cell_type": "code",
   "execution_count": 107,
   "metadata": {
    "collapsed": false
   },
   "outputs": [],
   "source": [
    "def right_triangles(coprimes, limit):\n",
    "    a = lambda k, m, n: k * (m**2 - n**2)\n",
    "    b = lambda k, m, n: k * (2 * m * n)\n",
    "    c = lambda k, m, n: k * (m**2 + n**2)\n",
    "    \n",
    "    triangles = []\n",
    "    \n",
    "    for coprime in coprimes:\n",
    "        if (coprime[0] - coprime[1]) % 2 == 1:\n",
    "            p = 0\n",
    "            k = 1\n",
    "            while p < limit:\n",
    "                a1 = a(k, coprime[0], coprime[1])\n",
    "                b1 = b(k, coprime[0], coprime[1])\n",
    "                c1 = c(k, coprime[0], coprime[1])\n",
    "                \n",
    "                p = a1 + b1 + c1\n",
    "                \n",
    "                triangles.append([a1, b1, c1])\n",
    "                \n",
    "                k += 1\n",
    "        \n",
    "    return triangles "
   ]
  },
  {
   "cell_type": "code",
   "execution_count": 138,
   "metadata": {
    "collapsed": true
   },
   "outputs": [],
   "source": [
    "def project_euler39(limit):\n",
    "    coprimes = list(relatively_prime_generator(limit))\n",
    "    triangles = right_triangles(coprimes, limit)\n",
    "    \n",
    "    perimeters = {}\n",
    "    new_dict = {}\n",
    "    solutions = []\n",
    "    \n",
    "    for triangle in triangles:\n",
    "        str_triangle = str(triangle[0]) + str(triangle[1]) + str(triangle[2])\n",
    "        sum = triangle[0] + triangle[1] + triangle[2]\n",
    "        \n",
    "        if sum < limit:\n",
    "            perimeters[str_triangle] = sum\n",
    "    \n",
    "    for k, v in perimeters.items():\n",
    "        new_dict.setdefault(v, []).append(k)\n",
    "    \n",
    "    d = dict((k, v) for k, v in new_dict.items() if len(list(filter(bool, v))) > 1)\n",
    "            \n",
    "    for key, value in d.items():\n",
    "        solutions.append([key, len(list(filter(bool, value)))])\n",
    "    \n",
    "    length = 0\n",
    "    \n",
    "    for solution in solutions:\n",
    "        if solution[1] > length:\n",
    "            length = solution[1]\n",
    "            answer = solution    \n",
    "    \n",
    "    return answer"
   ]
  },
  {
   "cell_type": "code",
   "execution_count": 139,
   "metadata": {
    "collapsed": false,
    "scrolled": true
   },
   "outputs": [
    {
     "data": {
      "text/plain": [
       "[840, 8]"
      ]
     },
     "execution_count": 139,
     "metadata": {},
     "output_type": "execute_result"
    }
   ],
   "source": [
    "project_euler39(1000)"
   ]
  },
  {
   "cell_type": "code",
   "execution_count": null,
   "metadata": {
    "collapsed": true
   },
   "outputs": [],
   "source": []
  }
 ],
 "metadata": {
  "kernelspec": {
   "display_name": "Python 3",
   "language": "python",
   "name": "python3"
  },
  "language_info": {
   "codemirror_mode": {
    "name": "ipython",
    "version": 3
   },
   "file_extension": ".py",
   "mimetype": "text/x-python",
   "name": "python",
   "nbconvert_exporter": "python",
   "pygments_lexer": "ipython3",
   "version": "3.4.3"
  }
 },
 "nbformat": 4,
 "nbformat_minor": 0
}
