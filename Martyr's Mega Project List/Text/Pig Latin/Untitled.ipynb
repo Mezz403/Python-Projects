{
 "cells": [
  {
   "cell_type": "code",
   "execution_count": 30,
   "metadata": {
    "collapsed": true
   },
   "outputs": [],
   "source": [
    "def pig_latin():\n",
    "    string_in = input('Enter a word to translate: ')\n",
    "    \n",
    "    while len(string_in.split()) > 1:\n",
    "        string_in = input('Only one word allowed for translation, try again: ')\n",
    "        \n",
    "    char_array = [str(i) for i in string_in]\n",
    "    \n",
    "    vowels = ['a', 'e', 'i', 'o', 'u']\n",
    "    \n",
    "    if char_array[0] in vowels:\n",
    "        string_out = string_in + 'yay'\n",
    "    else:\n",
    "        j = ''\n",
    "        \n",
    "        for i in range(len(char_array)):            \n",
    "            if char_array[i] in vowels:\n",
    "                string_out = string_in[(i):] + j + 'ay'\n",
    "                return string_out\n",
    "            \n",
    "            j += char_array[i]\n",
    "            \n",
    "        string_out = string_in\n",
    "    \n",
    "    return string_out"
   ]
  },
  {
   "cell_type": "code",
   "execution_count": 35,
   "metadata": {
    "collapsed": false
   },
   "outputs": [
    {
     "name": "stdout",
     "output_type": "stream",
     "text": [
      "Enter a word to translate: Brian\n"
     ]
    },
    {
     "data": {
      "text/plain": [
       "'ianBray'"
      ]
     },
     "execution_count": 35,
     "metadata": {},
     "output_type": "execute_result"
    }
   ],
   "source": [
    "pig_latin()"
   ]
  },
  {
   "cell_type": "code",
   "execution_count": null,
   "metadata": {
    "collapsed": true
   },
   "outputs": [],
   "source": []
  },
  {
   "cell_type": "code",
   "execution_count": null,
   "metadata": {
    "collapsed": true
   },
   "outputs": [],
   "source": []
  }
 ],
 "metadata": {
  "kernelspec": {
   "display_name": "Python 3",
   "language": "python",
   "name": "python3"
  },
  "language_info": {
   "codemirror_mode": {
    "name": "ipython",
    "version": 3
   },
   "file_extension": ".py",
   "mimetype": "text/x-python",
   "name": "python",
   "nbconvert_exporter": "python",
   "pygments_lexer": "ipython3",
   "version": "3.5.0"
  }
 },
 "nbformat": 4,
 "nbformat_minor": 0
}
